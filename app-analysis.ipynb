{
 "cells": [
  {
   "cell_type": "code",
   "execution_count": 1,
   "id": "b2a84700",
   "metadata": {
    "_cell_guid": "b1076dfc-b9ad-4769-8c92-a6c4dae69d19",
    "_uuid": "8f2839f25d086af736a60e9eeb907d3b93b6e0e5",
    "execution": {
     "iopub.execute_input": "2023-08-27T06:01:49.953191Z",
     "iopub.status.busy": "2023-08-27T06:01:49.952615Z",
     "iopub.status.idle": "2023-08-27T06:01:49.974038Z",
     "shell.execute_reply": "2023-08-27T06:01:49.972854Z"
    },
    "papermill": {
     "duration": 0.045299,
     "end_time": "2023-08-27T06:01:49.976983",
     "exception": false,
     "start_time": "2023-08-27T06:01:49.931684",
     "status": "completed"
    },
    "tags": []
   },
   "outputs": [
    {
     "name": "stdout",
     "output_type": "stream",
     "text": [
      "/kaggle/input/customer-app-behaviour-analysis/top-screens.csv\n",
      "/kaggle/input/customer-app-behaviour-analysis/app-analysis.csv\n"
     ]
    }
   ],
   "source": [
    "# This Python 3 environment comes with many helpful analytics libraries installed\n",
    "# It is defined by the kaggle/python Docker image: https://github.com/kaggle/docker-python\n",
    "# For example, here's several helpful packages to load\n",
    "\n",
    "import numpy as np # linear algebra\n",
    "import pandas as pd # data processing, CSV file I/O (e.g. pd.read_csv)\n",
    "\n",
    "# Input data files are available in the read-only \"../input/\" directory\n",
    "# For example, running this (by clicking run or pressing Shift+Enter) will list all files under the input directory\n",
    "\n",
    "import os\n",
    "for dirname, _, filenames in os.walk('/kaggle/input'):\n",
    "    for filename in filenames:\n",
    "        print(os.path.join(dirname, filename))\n",
    "\n",
    "# You can write up to 20GB to the current directory (/kaggle/working/) that gets preserved as output when you create a version using \"Save & Run All\" \n",
    "# You can also write temporary files to /kaggle/temp/, but they won't be saved outside of the current session"
   ]
  },
  {
   "cell_type": "markdown",
   "id": "7d6a4d21",
   "metadata": {
    "papermill": {
     "duration": 0.017659,
     "end_time": "2023-08-27T06:01:50.014409",
     "exception": false,
     "start_time": "2023-08-27T06:01:49.996750",
     "status": "completed"
    },
    "tags": []
   },
   "source": [
    "# Directing customers to subscription through app behaviour analysis\n",
    "\n",
    "## Importing Data\n",
    "\n",
    "### Load Libraries"
   ]
  },
  {
   "cell_type": "code",
   "execution_count": 2,
   "id": "6ce117a4",
   "metadata": {
    "execution": {
     "iopub.execute_input": "2023-08-27T06:01:50.054094Z",
     "iopub.status.busy": "2023-08-27T06:01:50.053702Z",
     "iopub.status.idle": "2023-08-27T06:01:51.507968Z",
     "shell.execute_reply": "2023-08-27T06:01:51.506586Z"
    },
    "papermill": {
     "duration": 1.477759,
     "end_time": "2023-08-27T06:01:51.511987",
     "exception": false,
     "start_time": "2023-08-27T06:01:50.034228",
     "status": "completed"
    },
    "tags": []
   },
   "outputs": [
    {
     "name": "stderr",
     "output_type": "stream",
     "text": [
      "/opt/conda/lib/python3.10/site-packages/scipy/__init__.py:146: UserWarning: A NumPy version >=1.16.5 and <1.23.0 is required for this version of SciPy (detected version 1.23.5\n",
      "  warnings.warn(f\"A NumPy version >={np_minversion} and <{np_maxversion}\"\n"
     ]
    }
   ],
   "source": [
    "import matplotlib.pyplot as plt\n",
    "import seaborn as sns\n",
    "from dateutil import parser"
   ]
  },
  {
   "cell_type": "markdown",
   "id": "9c630039",
   "metadata": {
    "papermill": {
     "duration": 0.020383,
     "end_time": "2023-08-27T06:01:51.552126",
     "exception": false,
     "start_time": "2023-08-27T06:01:51.531743",
     "status": "completed"
    },
    "tags": []
   },
   "source": [
    "### Load Data"
   ]
  },
  {
   "cell_type": "code",
   "execution_count": 3,
   "id": "9516bf66",
   "metadata": {
    "execution": {
     "iopub.execute_input": "2023-08-27T06:01:51.591286Z",
     "iopub.status.busy": "2023-08-27T06:01:51.590876Z",
     "iopub.status.idle": "2023-08-27T06:01:52.014065Z",
     "shell.execute_reply": "2023-08-27T06:01:52.012576Z"
    },
    "papermill": {
     "duration": 0.445852,
     "end_time": "2023-08-27T06:01:52.016922",
     "exception": false,
     "start_time": "2023-08-27T06:01:51.571070",
     "status": "completed"
    },
    "tags": []
   },
   "outputs": [],
   "source": [
    "df = pd.read_csv('/kaggle/input/customer-app-behaviour-analysis/app-analysis.csv')\n",
    "df_screens = pd.read_csv('/kaggle/input/customer-app-behaviour-analysis/top-screens.csv')"
   ]
  },
  {
   "cell_type": "markdown",
   "id": "16b38f6f",
   "metadata": {
    "papermill": {
     "duration": 0.019839,
     "end_time": "2023-08-27T06:01:52.055998",
     "exception": false,
     "start_time": "2023-08-27T06:01:52.036159",
     "status": "completed"
    },
    "tags": []
   },
   "source": [
    "## Analyzing Data\n",
    "\n",
    "### Playing with Data"
   ]
  },
  {
   "cell_type": "code",
   "execution_count": 4,
   "id": "e77bdcf2",
   "metadata": {
    "execution": {
     "iopub.execute_input": "2023-08-27T06:01:52.099022Z",
     "iopub.status.busy": "2023-08-27T06:01:52.097852Z",
     "iopub.status.idle": "2023-08-27T06:01:52.128301Z",
     "shell.execute_reply": "2023-08-27T06:01:52.126713Z"
    },
    "papermill": {
     "duration": 0.054869,
     "end_time": "2023-08-27T06:01:52.131862",
     "exception": false,
     "start_time": "2023-08-27T06:01:52.076993",
     "status": "completed"
    },
    "tags": []
   },
   "outputs": [
    {
     "data": {
      "text/html": [
       "<div>\n",
       "<style scoped>\n",
       "    .dataframe tbody tr th:only-of-type {\n",
       "        vertical-align: middle;\n",
       "    }\n",
       "\n",
       "    .dataframe tbody tr th {\n",
       "        vertical-align: top;\n",
       "    }\n",
       "\n",
       "    .dataframe thead th {\n",
       "        text-align: right;\n",
       "    }\n",
       "</style>\n",
       "<table border=\"1\" class=\"dataframe\">\n",
       "  <thead>\n",
       "    <tr style=\"text-align: right;\">\n",
       "      <th></th>\n",
       "      <th>user</th>\n",
       "      <th>first_open</th>\n",
       "      <th>dayofweek</th>\n",
       "      <th>hour</th>\n",
       "      <th>age</th>\n",
       "      <th>screen_list</th>\n",
       "      <th>numscreens</th>\n",
       "      <th>minigame</th>\n",
       "      <th>used_premium_feature</th>\n",
       "      <th>enrolled</th>\n",
       "      <th>enrolled_date</th>\n",
       "      <th>liked</th>\n",
       "    </tr>\n",
       "  </thead>\n",
       "  <tbody>\n",
       "    <tr>\n",
       "      <th>0</th>\n",
       "      <td>235136</td>\n",
       "      <td>2012-12-27 02:14:51.273</td>\n",
       "      <td>3</td>\n",
       "      <td>02:00:00</td>\n",
       "      <td>23</td>\n",
       "      <td>idscreen,joinscreen,Cycle,product_review,ScanP...</td>\n",
       "      <td>15</td>\n",
       "      <td>0</td>\n",
       "      <td>0</td>\n",
       "      <td>0</td>\n",
       "      <td>NaN</td>\n",
       "      <td>0</td>\n",
       "    </tr>\n",
       "    <tr>\n",
       "      <th>1</th>\n",
       "      <td>333588</td>\n",
       "      <td>2012-12-02 01:16:00.905</td>\n",
       "      <td>6</td>\n",
       "      <td>01:00:00</td>\n",
       "      <td>24</td>\n",
       "      <td>joinscreen,product_review,product_review2,Scan...</td>\n",
       "      <td>13</td>\n",
       "      <td>0</td>\n",
       "      <td>0</td>\n",
       "      <td>0</td>\n",
       "      <td>NaN</td>\n",
       "      <td>0</td>\n",
       "    </tr>\n",
       "    <tr>\n",
       "      <th>2</th>\n",
       "      <td>254414</td>\n",
       "      <td>2013-03-19 19:19:09.157</td>\n",
       "      <td>1</td>\n",
       "      <td>19:00:00</td>\n",
       "      <td>23</td>\n",
       "      <td>Splash,Cycle,Loan</td>\n",
       "      <td>3</td>\n",
       "      <td>0</td>\n",
       "      <td>1</td>\n",
       "      <td>0</td>\n",
       "      <td>NaN</td>\n",
       "      <td>1</td>\n",
       "    </tr>\n",
       "    <tr>\n",
       "      <th>3</th>\n",
       "      <td>234192</td>\n",
       "      <td>2013-07-05 16:08:46.354</td>\n",
       "      <td>4</td>\n",
       "      <td>16:00:00</td>\n",
       "      <td>28</td>\n",
       "      <td>product_review,Home,product_review,Loan3,Finan...</td>\n",
       "      <td>40</td>\n",
       "      <td>0</td>\n",
       "      <td>0</td>\n",
       "      <td>1</td>\n",
       "      <td>2013-07-05 16:11:49.513</td>\n",
       "      <td>0</td>\n",
       "    </tr>\n",
       "    <tr>\n",
       "      <th>4</th>\n",
       "      <td>51549</td>\n",
       "      <td>2013-02-26 18:50:48.661</td>\n",
       "      <td>1</td>\n",
       "      <td>18:00:00</td>\n",
       "      <td>31</td>\n",
       "      <td>idscreen,joinscreen,Cycle,Credit3Container,Sca...</td>\n",
       "      <td>32</td>\n",
       "      <td>0</td>\n",
       "      <td>0</td>\n",
       "      <td>1</td>\n",
       "      <td>2013-02-26 18:56:37.841</td>\n",
       "      <td>1</td>\n",
       "    </tr>\n",
       "  </tbody>\n",
       "</table>\n",
       "</div>"
      ],
      "text/plain": [
       "     user               first_open  dayofweek       hour  age  \\\n",
       "0  235136  2012-12-27 02:14:51.273          3   02:00:00   23   \n",
       "1  333588  2012-12-02 01:16:00.905          6   01:00:00   24   \n",
       "2  254414  2013-03-19 19:19:09.157          1   19:00:00   23   \n",
       "3  234192  2013-07-05 16:08:46.354          4   16:00:00   28   \n",
       "4   51549  2013-02-26 18:50:48.661          1   18:00:00   31   \n",
       "\n",
       "                                         screen_list  numscreens  minigame  \\\n",
       "0  idscreen,joinscreen,Cycle,product_review,ScanP...          15         0   \n",
       "1  joinscreen,product_review,product_review2,Scan...          13         0   \n",
       "2                                  Splash,Cycle,Loan           3         0   \n",
       "3  product_review,Home,product_review,Loan3,Finan...          40         0   \n",
       "4  idscreen,joinscreen,Cycle,Credit3Container,Sca...          32         0   \n",
       "\n",
       "   used_premium_feature  enrolled            enrolled_date  liked  \n",
       "0                     0         0                      NaN      0  \n",
       "1                     0         0                      NaN      0  \n",
       "2                     1         0                      NaN      1  \n",
       "3                     0         1  2013-07-05 16:11:49.513      0  \n",
       "4                     0         1  2013-02-26 18:56:37.841      1  "
      ]
     },
     "execution_count": 4,
     "metadata": {},
     "output_type": "execute_result"
    }
   ],
   "source": [
    "df.head()"
   ]
  },
  {
   "cell_type": "code",
   "execution_count": 5,
   "id": "53c7f483",
   "metadata": {
    "execution": {
     "iopub.execute_input": "2023-08-27T06:01:52.171797Z",
     "iopub.status.busy": "2023-08-27T06:01:52.171013Z",
     "iopub.status.idle": "2023-08-27T06:01:52.231376Z",
     "shell.execute_reply": "2023-08-27T06:01:52.229815Z"
    },
    "papermill": {
     "duration": 0.083297,
     "end_time": "2023-08-27T06:01:52.234167",
     "exception": false,
     "start_time": "2023-08-27T06:01:52.150870",
     "status": "completed"
    },
    "tags": []
   },
   "outputs": [
    {
     "data": {
      "text/html": [
       "<div>\n",
       "<style scoped>\n",
       "    .dataframe tbody tr th:only-of-type {\n",
       "        vertical-align: middle;\n",
       "    }\n",
       "\n",
       "    .dataframe tbody tr th {\n",
       "        vertical-align: top;\n",
       "    }\n",
       "\n",
       "    .dataframe thead th {\n",
       "        text-align: right;\n",
       "    }\n",
       "</style>\n",
       "<table border=\"1\" class=\"dataframe\">\n",
       "  <thead>\n",
       "    <tr style=\"text-align: right;\">\n",
       "      <th></th>\n",
       "      <th>user</th>\n",
       "      <th>dayofweek</th>\n",
       "      <th>age</th>\n",
       "      <th>numscreens</th>\n",
       "      <th>minigame</th>\n",
       "      <th>used_premium_feature</th>\n",
       "      <th>enrolled</th>\n",
       "      <th>liked</th>\n",
       "    </tr>\n",
       "  </thead>\n",
       "  <tbody>\n",
       "    <tr>\n",
       "      <th>count</th>\n",
       "      <td>50000.000000</td>\n",
       "      <td>50000.000000</td>\n",
       "      <td>50000.00000</td>\n",
       "      <td>50000.000000</td>\n",
       "      <td>50000.000000</td>\n",
       "      <td>50000.000000</td>\n",
       "      <td>50000.000000</td>\n",
       "      <td>50000.000000</td>\n",
       "    </tr>\n",
       "    <tr>\n",
       "      <th>mean</th>\n",
       "      <td>186889.729900</td>\n",
       "      <td>3.029860</td>\n",
       "      <td>31.72436</td>\n",
       "      <td>21.095900</td>\n",
       "      <td>0.107820</td>\n",
       "      <td>0.172020</td>\n",
       "      <td>0.621480</td>\n",
       "      <td>0.165000</td>\n",
       "    </tr>\n",
       "    <tr>\n",
       "      <th>std</th>\n",
       "      <td>107768.520361</td>\n",
       "      <td>2.031997</td>\n",
       "      <td>10.80331</td>\n",
       "      <td>15.728812</td>\n",
       "      <td>0.310156</td>\n",
       "      <td>0.377402</td>\n",
       "      <td>0.485023</td>\n",
       "      <td>0.371184</td>\n",
       "    </tr>\n",
       "    <tr>\n",
       "      <th>min</th>\n",
       "      <td>13.000000</td>\n",
       "      <td>0.000000</td>\n",
       "      <td>16.00000</td>\n",
       "      <td>1.000000</td>\n",
       "      <td>0.000000</td>\n",
       "      <td>0.000000</td>\n",
       "      <td>0.000000</td>\n",
       "      <td>0.000000</td>\n",
       "    </tr>\n",
       "    <tr>\n",
       "      <th>25%</th>\n",
       "      <td>93526.750000</td>\n",
       "      <td>1.000000</td>\n",
       "      <td>24.00000</td>\n",
       "      <td>10.000000</td>\n",
       "      <td>0.000000</td>\n",
       "      <td>0.000000</td>\n",
       "      <td>0.000000</td>\n",
       "      <td>0.000000</td>\n",
       "    </tr>\n",
       "    <tr>\n",
       "      <th>50%</th>\n",
       "      <td>187193.500000</td>\n",
       "      <td>3.000000</td>\n",
       "      <td>29.00000</td>\n",
       "      <td>18.000000</td>\n",
       "      <td>0.000000</td>\n",
       "      <td>0.000000</td>\n",
       "      <td>1.000000</td>\n",
       "      <td>0.000000</td>\n",
       "    </tr>\n",
       "    <tr>\n",
       "      <th>75%</th>\n",
       "      <td>279984.250000</td>\n",
       "      <td>5.000000</td>\n",
       "      <td>37.00000</td>\n",
       "      <td>28.000000</td>\n",
       "      <td>0.000000</td>\n",
       "      <td>0.000000</td>\n",
       "      <td>1.000000</td>\n",
       "      <td>0.000000</td>\n",
       "    </tr>\n",
       "    <tr>\n",
       "      <th>max</th>\n",
       "      <td>373662.000000</td>\n",
       "      <td>6.000000</td>\n",
       "      <td>101.00000</td>\n",
       "      <td>325.000000</td>\n",
       "      <td>1.000000</td>\n",
       "      <td>1.000000</td>\n",
       "      <td>1.000000</td>\n",
       "      <td>1.000000</td>\n",
       "    </tr>\n",
       "  </tbody>\n",
       "</table>\n",
       "</div>"
      ],
      "text/plain": [
       "                user     dayofweek          age    numscreens      minigame  \\\n",
       "count   50000.000000  50000.000000  50000.00000  50000.000000  50000.000000   \n",
       "mean   186889.729900      3.029860     31.72436     21.095900      0.107820   \n",
       "std    107768.520361      2.031997     10.80331     15.728812      0.310156   \n",
       "min        13.000000      0.000000     16.00000      1.000000      0.000000   \n",
       "25%     93526.750000      1.000000     24.00000     10.000000      0.000000   \n",
       "50%    187193.500000      3.000000     29.00000     18.000000      0.000000   \n",
       "75%    279984.250000      5.000000     37.00000     28.000000      0.000000   \n",
       "max    373662.000000      6.000000    101.00000    325.000000      1.000000   \n",
       "\n",
       "       used_premium_feature      enrolled         liked  \n",
       "count          50000.000000  50000.000000  50000.000000  \n",
       "mean               0.172020      0.621480      0.165000  \n",
       "std                0.377402      0.485023      0.371184  \n",
       "min                0.000000      0.000000      0.000000  \n",
       "25%                0.000000      0.000000      0.000000  \n",
       "50%                0.000000      1.000000      0.000000  \n",
       "75%                0.000000      1.000000      0.000000  \n",
       "max                1.000000      1.000000      1.000000  "
      ]
     },
     "execution_count": 5,
     "metadata": {},
     "output_type": "execute_result"
    }
   ],
   "source": [
    "df.describe()"
   ]
  },
  {
   "cell_type": "code",
   "execution_count": 6,
   "id": "f77b1f82",
   "metadata": {
    "execution": {
     "iopub.execute_input": "2023-08-27T06:01:52.274226Z",
     "iopub.status.busy": "2023-08-27T06:01:52.273508Z",
     "iopub.status.idle": "2023-08-27T06:01:52.318070Z",
     "shell.execute_reply": "2023-08-27T06:01:52.316888Z"
    },
    "papermill": {
     "duration": 0.067608,
     "end_time": "2023-08-27T06:01:52.320987",
     "exception": false,
     "start_time": "2023-08-27T06:01:52.253379",
     "status": "completed"
    },
    "tags": []
   },
   "outputs": [],
   "source": [
    "df['hour'] = df.hour.str.slice(1, 3).astype(int)"
   ]
  },
  {
   "cell_type": "code",
   "execution_count": 7,
   "id": "63b125dd",
   "metadata": {
    "execution": {
     "iopub.execute_input": "2023-08-27T06:01:52.360824Z",
     "iopub.status.busy": "2023-08-27T06:01:52.360381Z",
     "iopub.status.idle": "2023-08-27T06:01:52.388368Z",
     "shell.execute_reply": "2023-08-27T06:01:52.387191Z"
    },
    "papermill": {
     "duration": 0.051464,
     "end_time": "2023-08-27T06:01:52.391513",
     "exception": false,
     "start_time": "2023-08-27T06:01:52.340049",
     "status": "completed"
    },
    "tags": []
   },
   "outputs": [
    {
     "data": {
      "text/html": [
       "<div>\n",
       "<style scoped>\n",
       "    .dataframe tbody tr th:only-of-type {\n",
       "        vertical-align: middle;\n",
       "    }\n",
       "\n",
       "    .dataframe tbody tr th {\n",
       "        vertical-align: top;\n",
       "    }\n",
       "\n",
       "    .dataframe thead th {\n",
       "        text-align: right;\n",
       "    }\n",
       "</style>\n",
       "<table border=\"1\" class=\"dataframe\">\n",
       "  <thead>\n",
       "    <tr style=\"text-align: right;\">\n",
       "      <th></th>\n",
       "      <th>dayofweek</th>\n",
       "      <th>hour</th>\n",
       "      <th>age</th>\n",
       "      <th>numscreens</th>\n",
       "      <th>minigame</th>\n",
       "      <th>used_premium_feature</th>\n",
       "      <th>liked</th>\n",
       "    </tr>\n",
       "  </thead>\n",
       "  <tbody>\n",
       "    <tr>\n",
       "      <th>0</th>\n",
       "      <td>3</td>\n",
       "      <td>2</td>\n",
       "      <td>23</td>\n",
       "      <td>15</td>\n",
       "      <td>0</td>\n",
       "      <td>0</td>\n",
       "      <td>0</td>\n",
       "    </tr>\n",
       "    <tr>\n",
       "      <th>1</th>\n",
       "      <td>6</td>\n",
       "      <td>1</td>\n",
       "      <td>24</td>\n",
       "      <td>13</td>\n",
       "      <td>0</td>\n",
       "      <td>0</td>\n",
       "      <td>0</td>\n",
       "    </tr>\n",
       "    <tr>\n",
       "      <th>2</th>\n",
       "      <td>1</td>\n",
       "      <td>19</td>\n",
       "      <td>23</td>\n",
       "      <td>3</td>\n",
       "      <td>0</td>\n",
       "      <td>1</td>\n",
       "      <td>1</td>\n",
       "    </tr>\n",
       "    <tr>\n",
       "      <th>3</th>\n",
       "      <td>4</td>\n",
       "      <td>16</td>\n",
       "      <td>28</td>\n",
       "      <td>40</td>\n",
       "      <td>0</td>\n",
       "      <td>0</td>\n",
       "      <td>0</td>\n",
       "    </tr>\n",
       "    <tr>\n",
       "      <th>4</th>\n",
       "      <td>1</td>\n",
       "      <td>18</td>\n",
       "      <td>31</td>\n",
       "      <td>32</td>\n",
       "      <td>0</td>\n",
       "      <td>0</td>\n",
       "      <td>1</td>\n",
       "    </tr>\n",
       "  </tbody>\n",
       "</table>\n",
       "</div>"
      ],
      "text/plain": [
       "   dayofweek  hour  age  numscreens  minigame  used_premium_feature  liked\n",
       "0          3     2   23          15         0                     0      0\n",
       "1          6     1   24          13         0                     0      0\n",
       "2          1    19   23           3         0                     1      1\n",
       "3          4    16   28          40         0                     0      0\n",
       "4          1    18   31          32         0                     0      1"
      ]
     },
     "execution_count": 7,
     "metadata": {},
     "output_type": "execute_result"
    }
   ],
   "source": [
    "dataset = df.copy().drop(columns = ['user', 'screen_list', 'enrolled_date', 'first_open', 'enrolled'])\n",
    "dataset.head()"
   ]
  },
  {
   "cell_type": "code",
   "execution_count": 8,
   "id": "825aa3a9",
   "metadata": {
    "execution": {
     "iopub.execute_input": "2023-08-27T06:01:52.434754Z",
     "iopub.status.busy": "2023-08-27T06:01:52.434308Z",
     "iopub.status.idle": "2023-08-27T06:01:52.443378Z",
     "shell.execute_reply": "2023-08-27T06:01:52.442409Z"
    },
    "papermill": {
     "duration": 0.034644,
     "end_time": "2023-08-27T06:01:52.445667",
     "exception": false,
     "start_time": "2023-08-27T06:01:52.411023",
     "status": "completed"
    },
    "tags": []
   },
   "outputs": [
    {
     "data": {
      "text/plain": [
       "user                     int64\n",
       "first_open              object\n",
       "dayofweek                int64\n",
       "hour                     int64\n",
       "age                      int64\n",
       "screen_list             object\n",
       "numscreens               int64\n",
       "minigame                 int64\n",
       "used_premium_feature     int64\n",
       "enrolled                 int64\n",
       "enrolled_date           object\n",
       "liked                    int64\n",
       "dtype: object"
      ]
     },
     "execution_count": 8,
     "metadata": {},
     "output_type": "execute_result"
    }
   ],
   "source": [
    "df.dtypes"
   ]
  },
  {
   "cell_type": "markdown",
   "id": "d5f7f195",
   "metadata": {
    "papermill": {
     "duration": 0.019421,
     "end_time": "2023-08-27T06:01:52.486028",
     "exception": false,
     "start_time": "2023-08-27T06:01:52.466607",
     "status": "completed"
    },
    "tags": []
   },
   "source": [
    "## Visualizing Data\n",
    "\n",
    "### Histogram"
   ]
  },
  {
   "cell_type": "code",
   "execution_count": 9,
   "id": "bed2a8a8",
   "metadata": {
    "execution": {
     "iopub.execute_input": "2023-08-27T06:01:52.528101Z",
     "iopub.status.busy": "2023-08-27T06:01:52.527381Z",
     "iopub.status.idle": "2023-08-27T06:01:54.516059Z",
     "shell.execute_reply": "2023-08-27T06:01:54.514794Z"
    },
    "papermill": {
     "duration": 2.014312,
     "end_time": "2023-08-27T06:01:54.520428",
     "exception": false,
     "start_time": "2023-08-27T06:01:52.506116",
     "status": "completed"
    },
    "tags": []
   },
   "outputs": [
    {
     "name": "stderr",
     "output_type": "stream",
     "text": [
      "/tmp/ipykernel_20/2858317700.py:8: UserWarning: The figure layout has changed to tight\n",
      "  plt.tight_layout()\n"
     ]
    },
    {
     "data": {
      "image/png": "[encoded data removed]",
      "text/plain": [
       "<Figure size 640x480 with 7 Axes>"
      ]
     },
     "metadata": {},
     "output_type": "display_data"
    }
   ],
   "source": [
    "plt.suptitle('Histogram of numerical columns', fontsize=20)\n",
    "for i in range(1, dataset.shape[1] + 1):\n",
    "    plt.subplot(3, 3, i)\n",
    "    f = plt.gca()\n",
    "    f.set_title(dataset.columns.values[i-1])\n",
    "    \n",
    "    vals = np.size(dataset.iloc[i - 1].unique())\n",
    "    plt.tight_layout()\n",
    "    plt.hist(dataset.iloc[:, i-1], bins = vals)"
   ]
  },
  {
   "cell_type": "markdown",
   "id": "fce39409",
   "metadata": {
    "papermill": {
     "duration": 0.020004,
     "end_time": "2023-08-27T06:01:54.562031",
     "exception": false,
     "start_time": "2023-08-27T06:01:54.542027",
     "status": "completed"
    },
    "tags": []
   },
   "source": [
    "### Correlation"
   ]
  },
  {
   "cell_type": "code",
   "execution_count": 10,
   "id": "6e847865",
   "metadata": {
    "execution": {
     "iopub.execute_input": "2023-08-27T06:01:54.611643Z",
     "iopub.status.busy": "2023-08-27T06:01:54.610229Z",
     "iopub.status.idle": "2023-08-27T06:01:55.140127Z",
     "shell.execute_reply": "2023-08-27T06:01:55.139167Z"
    },
    "papermill": {
     "duration": 0.557702,
     "end_time": "2023-08-27T06:01:55.144558",
     "exception": false,
     "start_time": "2023-08-27T06:01:54.586856",
     "status": "completed"
    },
    "tags": []
   },
   "outputs": [
    {
     "data": {
      "text/plain": [
       "<Axes: title={'center': 'Correlation with response'}>"
      ]
     },
     "execution_count": 10,
     "metadata": {},
     "output_type": "execute_result"
    },
    {
     "data": {
      "image/png": "[encoded data removed]",
      "text/plain": [
       "<Figure size 2000x1000 with 1 Axes>"
      ]
     },
     "metadata": {},
     "output_type": "display_data"
    }
   ],
   "source": [
    "dataset.corrwith(df.enrolled).plot.bar(figsize = (20, 10),\n",
    "                                      title = 'Correlation with response',\n",
    "                                      fontsize = 15,\n",
    "                                      rot = 45,\n",
    "                                      grid = True)"
   ]
  },
  {
   "cell_type": "markdown",
   "id": "0739f9bf",
   "metadata": {
    "papermill": {
     "duration": 0.021815,
     "end_time": "2023-08-27T06:01:55.193773",
     "exception": false,
     "start_time": "2023-08-27T06:01:55.171958",
     "status": "completed"
    },
    "tags": []
   },
   "source": [
    "### Correlation Matrix"
   ]
  },
  {
   "cell_type": "code",
   "execution_count": 11,
   "id": "22857fa5",
   "metadata": {
    "execution": {
     "iopub.execute_input": "2023-08-27T06:01:55.240959Z",
     "iopub.status.busy": "2023-08-27T06:01:55.239931Z",
     "iopub.status.idle": "2023-08-27T06:01:56.120577Z",
     "shell.execute_reply": "2023-08-27T06:01:56.119421Z"
    },
    "papermill": {
     "duration": 0.906896,
     "end_time": "2023-08-27T06:01:56.123171",
     "exception": false,
     "start_time": "2023-08-27T06:01:55.216275",
     "status": "completed"
    },
    "tags": []
   },
   "outputs": [
    {
     "name": "stderr",
     "output_type": "stream",
     "text": [
      "/tmp/ipykernel_20/3819064361.py:3: DeprecationWarning: `np.bool` is a deprecated alias for the builtin `bool`. To silence this warning, use `bool` by itself. Doing this will not modify any behavior and is safe. If you specifically wanted the numpy scalar type, use `np.bool_` here.\n",
      "Deprecated in NumPy 1.20; for more details and guidance: https://numpy.org/devdocs/release/1.20.0-notes.html#deprecations\n",
      "  mask = np.zeros_like(corr, dtype=np.bool)\n"
     ]
    },
    {
     "data": {
      "text/plain": [
       "<Axes: >"
      ]
     },
     "execution_count": 11,
     "metadata": {},
     "output_type": "execute_result"
    },
    {
     "data": {
      "image/png": "[encoded data removed]",
      "text/plain": [
       "<Figure size 1800x1500 with 2 Axes>"
      ]
     },
     "metadata": {},
     "output_type": "display_data"
    }
   ],
   "source": [
    "sns.set(style = 'white', font_scale = 2)\n",
    "corr = dataset.corr()\n",
    "mask = np.zeros_like(corr, dtype=np.bool)\n",
    "mask[np.triu_indices_from(mask)] = True\n",
    "\n",
    "fig, axes = plt.subplots(figsize = (18, 15))\n",
    "fig.suptitle('Correlation Matrix', fontsize=40)\n",
    "\n",
    "cmap = sns.diverging_palette(220, 10, as_cmap=True)\n",
    "\n",
    "sns.heatmap(corr, mask=mask, cmap=cmap, vmax=.3, center=0,\n",
    "           square = True, linewidths=.5, cbar_kws={'shrink': .5})"
   ]
  },
  {
   "cell_type": "markdown",
   "id": "84af3070",
   "metadata": {
    "papermill": {
     "duration": 0.022721,
     "end_time": "2023-08-27T06:01:56.169461",
     "exception": false,
     "start_time": "2023-08-27T06:01:56.146740",
     "status": "completed"
    },
    "tags": []
   },
   "source": [
    "Strong correlations\n",
    "1. More aged people, open less no. of screens\n",
    "2. More no. of screens, atleast 1 might be a premium feature\n",
    "3. If played minigame, possibility that used a premium feature"
   ]
  },
  {
   "cell_type": "markdown",
   "id": "1a68e8b9",
   "metadata": {
    "papermill": {
     "duration": 0.023693,
     "end_time": "2023-08-27T06:01:56.216338",
     "exception": false,
     "start_time": "2023-08-27T06:01:56.192645",
     "status": "completed"
    },
    "tags": []
   },
   "source": [
    "## Feature Engineering\n",
    "\n",
    "### Play with dates"
   ]
  },
  {
   "cell_type": "code",
   "execution_count": 12,
   "id": "15f03340",
   "metadata": {
    "execution": {
     "iopub.execute_input": "2023-08-27T06:01:56.267170Z",
     "iopub.status.busy": "2023-08-27T06:01:56.266763Z",
     "iopub.status.idle": "2023-08-27T06:02:04.722493Z",
     "shell.execute_reply": "2023-08-27T06:02:04.721619Z"
    },
    "papermill": {
     "duration": 8.482947,
     "end_time": "2023-08-27T06:02:04.725130",
     "exception": false,
     "start_time": "2023-08-27T06:01:56.242183",
     "status": "completed"
    },
    "tags": []
   },
   "outputs": [],
   "source": [
    "df['first_open'] = [parser.parse(row_data) for row_data in df['first_open']]\n",
    "df['enrolled_date'] = [parser.parse(row_data) if isinstance(row_data, str) else row_data  for row_data in df['enrolled_date']]"
   ]
  },
  {
   "cell_type": "code",
   "execution_count": 13,
   "id": "29932f57",
   "metadata": {
    "execution": {
     "iopub.execute_input": "2023-08-27T06:02:04.772802Z",
     "iopub.status.busy": "2023-08-27T06:02:04.771910Z",
     "iopub.status.idle": "2023-08-27T06:02:04.781388Z",
     "shell.execute_reply": "2023-08-27T06:02:04.780092Z"
    },
    "papermill": {
     "duration": 0.036003,
     "end_time": "2023-08-27T06:02:04.783904",
     "exception": false,
     "start_time": "2023-08-27T06:02:04.747901",
     "status": "completed"
    },
    "tags": []
   },
   "outputs": [
    {
     "data": {
      "text/plain": [
       "user                             int64\n",
       "first_open              datetime64[ns]\n",
       "dayofweek                        int64\n",
       "hour                             int64\n",
       "age                              int64\n",
       "screen_list                     object\n",
       "numscreens                       int64\n",
       "minigame                         int64\n",
       "used_premium_feature             int64\n",
       "enrolled                         int64\n",
       "enrolled_date           datetime64[ns]\n",
       "liked                            int64\n",
       "dtype: object"
      ]
     },
     "execution_count": 13,
     "metadata": {},
     "output_type": "execute_result"
    }
   ],
   "source": [
    "df.dtypes"
   ]
  },
  {
   "cell_type": "code",
   "execution_count": 14,
   "id": "6c552536",
   "metadata": {
    "execution": {
     "iopub.execute_input": "2023-08-27T06:02:04.832167Z",
     "iopub.status.busy": "2023-08-27T06:02:04.830960Z",
     "iopub.status.idle": "2023-08-27T06:02:04.840934Z",
     "shell.execute_reply": "2023-08-27T06:02:04.839819Z"
    },
    "papermill": {
     "duration": 0.037113,
     "end_time": "2023-08-27T06:02:04.843836",
     "exception": false,
     "start_time": "2023-08-27T06:02:04.806723",
     "status": "completed"
    },
    "tags": []
   },
   "outputs": [],
   "source": [
    "## stores diff in time for enrollment and store in terms of hours\n",
    "df['difference'] = (df.enrolled_date - df.first_open).astype('timedelta64[h]')"
   ]
  },
  {
   "cell_type": "code",
   "execution_count": 15,
   "id": "dab26259",
   "metadata": {
    "execution": {
     "iopub.execute_input": "2023-08-27T06:02:04.892117Z",
     "iopub.status.busy": "2023-08-27T06:02:04.891703Z",
     "iopub.status.idle": "2023-08-27T06:02:05.234869Z",
     "shell.execute_reply": "2023-08-27T06:02:05.233640Z"
    },
    "papermill": {
     "duration": 0.370662,
     "end_time": "2023-08-27T06:02:05.237711",
     "exception": false,
     "start_time": "2023-08-27T06:02:04.867049",
     "status": "completed"
    },
    "tags": []
   },
   "outputs": [
    {
     "data": {
      "image/png": "[encoded data removed]",
      "text/plain": [
       "<Figure size 640x480 with 1 Axes>"
      ]
     },
     "metadata": {},
     "output_type": "display_data"
    }
   ],
   "source": [
    "plt.hist(df['difference'].dropna(), color='#3f5d7d')\n",
    "plt.title('Distribution of time since enrolled (in hours)')\n",
    "plt.show()"
   ]
  },
  {
   "cell_type": "code",
   "execution_count": 16,
   "id": "3d223467",
   "metadata": {
    "execution": {
     "iopub.execute_input": "2023-08-27T06:02:05.286817Z",
     "iopub.status.busy": "2023-08-27T06:02:05.286418Z",
     "iopub.status.idle": "2023-08-27T06:02:05.652545Z",
     "shell.execute_reply": "2023-08-27T06:02:05.651395Z"
    },
    "papermill": {
     "duration": 0.393987,
     "end_time": "2023-08-27T06:02:05.655251",
     "exception": false,
     "start_time": "2023-08-27T06:02:05.261264",
     "status": "completed"
    },
    "tags": []
   },
   "outputs": [
    {
     "data": {
      "image/png": "[encoded data removed]",
      "text/plain": [
       "<Figure size 640x480 with 1 Axes>"
      ]
     },
     "metadata": {},
     "output_type": "display_data"
    }
   ],
   "source": [
    "plt.hist(df['difference'].dropna(), color='#3f5d7d', range=[0, 100])\n",
    "plt.title('Distribution of time since enrolled (in hours)')\n",
    "plt.show()"
   ]
  },
  {
   "cell_type": "code",
   "execution_count": 17,
   "id": "421f962f",
   "metadata": {
    "execution": {
     "iopub.execute_input": "2023-08-27T06:02:05.706726Z",
     "iopub.status.busy": "2023-08-27T06:02:05.706306Z",
     "iopub.status.idle": "2023-08-27T06:02:05.712710Z",
     "shell.execute_reply": "2023-08-27T06:02:05.711526Z"
    },
    "papermill": {
     "duration": 0.035451,
     "end_time": "2023-08-27T06:02:05.715226",
     "exception": false,
     "start_time": "2023-08-27T06:02:05.679775",
     "status": "completed"
    },
    "tags": []
   },
   "outputs": [],
   "source": [
    "df.loc[df.difference > 48, 'enrolled'] = 0"
   ]
  },
  {
   "cell_type": "code",
   "execution_count": 18,
   "id": "32cb59bf",
   "metadata": {
    "execution": {
     "iopub.execute_input": "2023-08-27T06:02:05.767113Z",
     "iopub.status.busy": "2023-08-27T06:02:05.766717Z",
     "iopub.status.idle": "2023-08-27T06:02:05.778471Z",
     "shell.execute_reply": "2023-08-27T06:02:05.777039Z"
    },
    "papermill": {
     "duration": 0.040421,
     "end_time": "2023-08-27T06:02:05.781037",
     "exception": false,
     "start_time": "2023-08-27T06:02:05.740616",
     "status": "completed"
    },
    "tags": []
   },
   "outputs": [],
   "source": [
    "df = df.drop(columns = ['difference', 'enrolled_date', 'first_open'])"
   ]
  },
  {
   "cell_type": "markdown",
   "id": "a1bb9a4f",
   "metadata": {
    "papermill": {
     "duration": 0.023884,
     "end_time": "2023-08-27T06:02:05.829530",
     "exception": false,
     "start_time": "2023-08-27T06:02:05.805646",
     "status": "completed"
    },
    "tags": []
   },
   "source": [
    "### Play with list of screens"
   ]
  },
  {
   "cell_type": "code",
   "execution_count": 19,
   "id": "8710c892",
   "metadata": {
    "execution": {
     "iopub.execute_input": "2023-08-27T06:02:05.882012Z",
     "iopub.status.busy": "2023-08-27T06:02:05.881613Z",
     "iopub.status.idle": "2023-08-27T06:02:05.889981Z",
     "shell.execute_reply": "2023-08-27T06:02:05.888808Z"
    },
    "papermill": {
     "duration": 0.037761,
     "end_time": "2023-08-27T06:02:05.892425",
     "exception": false,
     "start_time": "2023-08-27T06:02:05.854664",
     "status": "completed"
    },
    "tags": []
   },
   "outputs": [
    {
     "data": {
      "text/plain": [
       "array(['Loan2', 'location', 'Institutions', 'Credit3Container',\n",
       "       'VerifyPhone', 'BankVerification', 'VerifyDateOfBirth',\n",
       "       'ProfilePage', 'VerifyCountry', 'Cycle', 'idscreen',\n",
       "       'Credit3Dashboard', 'Loan3', 'CC1Category', 'Splash', 'Loan',\n",
       "       'CC1', 'RewardsContainer', 'Credit3', 'Credit1', 'EditProfile',\n",
       "       'Credit2', 'Finances', 'CC3', 'Saving9', 'Saving1', 'Alerts',\n",
       "       'Saving8', 'Saving10', 'Leaderboard', 'Saving4', 'VerifyMobile',\n",
       "       'VerifyHousing', 'RewardDetail', 'VerifyHousingAmount',\n",
       "       'ProfileMaritalStatus', 'ProfileChildren ', 'ProfileEducation',\n",
       "       'Saving7', 'ProfileEducationMajor', 'Rewards', 'AccountView',\n",
       "       'VerifyAnnualIncome', 'VerifyIncomeType', 'Saving2', 'Saving6',\n",
       "       'Saving2Amount', 'Saving5', 'ProfileJobTitle', 'Login',\n",
       "       'ProfileEmploymentLength', 'WebView', 'SecurityModal', 'Loan4',\n",
       "       'ResendToken', 'TransactionList', 'NetworkFailure', 'ListPicker'],\n",
       "      dtype=object)"
      ]
     },
     "execution_count": 19,
     "metadata": {},
     "output_type": "execute_result"
    }
   ],
   "source": [
    "top_screens = df_screens.top_screens.values\n",
    "top_screens"
   ]
  },
  {
   "cell_type": "code",
   "execution_count": 20,
   "id": "4dbad009",
   "metadata": {
    "execution": {
     "iopub.execute_input": "2023-08-27T06:02:05.943502Z",
     "iopub.status.busy": "2023-08-27T06:02:05.943053Z",
     "iopub.status.idle": "2023-08-27T06:02:12.575560Z",
     "shell.execute_reply": "2023-08-27T06:02:12.574271Z"
    },
    "papermill": {
     "duration": 6.661441,
     "end_time": "2023-08-27T06:02:12.578384",
     "exception": false,
     "start_time": "2023-08-27T06:02:05.916943",
     "status": "completed"
    },
    "tags": []
   },
   "outputs": [],
   "source": [
    "df['screen_list'] = df.screen_list.astype(str) + ','\n",
    "\n",
    "for screen in top_screens:\n",
    "    df[screen] = df.screen_list.str.contains(screen).astype(int)\n",
    "    df['screen_list'] = df.screen_list.str.replace(screen+',', '')\n",
    "df['Other'] = df.screen_list.str.count(',')\n",
    "df = df.drop(columns = ['screen_list'])"
   ]
  },
  {
   "cell_type": "code",
   "execution_count": 21,
   "id": "27026b82",
   "metadata": {
    "execution": {
     "iopub.execute_input": "2023-08-27T06:02:12.629233Z",
     "iopub.status.busy": "2023-08-27T06:02:12.628811Z",
     "iopub.status.idle": "2023-08-27T06:02:12.652848Z",
     "shell.execute_reply": "2023-08-27T06:02:12.651504Z"
    },
    "papermill": {
     "duration": 0.052903,
     "end_time": "2023-08-27T06:02:12.655676",
     "exception": false,
     "start_time": "2023-08-27T06:02:12.602773",
     "status": "completed"
    },
    "tags": []
   },
   "outputs": [
    {
     "data": {
      "text/html": [
       "<div>\n",
       "<style scoped>\n",
       "    .dataframe tbody tr th:only-of-type {\n",
       "        vertical-align: middle;\n",
       "    }\n",
       "\n",
       "    .dataframe tbody tr th {\n",
       "        vertical-align: top;\n",
       "    }\n",
       "\n",
       "    .dataframe thead th {\n",
       "        text-align: right;\n",
       "    }\n",
       "</style>\n",
       "<table border=\"1\" class=\"dataframe\">\n",
       "  <thead>\n",
       "    <tr style=\"text-align: right;\">\n",
       "      <th></th>\n",
       "      <th>user</th>\n",
       "      <th>dayofweek</th>\n",
       "      <th>hour</th>\n",
       "      <th>age</th>\n",
       "      <th>numscreens</th>\n",
       "      <th>minigame</th>\n",
       "      <th>used_premium_feature</th>\n",
       "      <th>enrolled</th>\n",
       "      <th>liked</th>\n",
       "      <th>Loan2</th>\n",
       "      <th>...</th>\n",
       "      <th>Login</th>\n",
       "      <th>ProfileEmploymentLength</th>\n",
       "      <th>WebView</th>\n",
       "      <th>SecurityModal</th>\n",
       "      <th>Loan4</th>\n",
       "      <th>ResendToken</th>\n",
       "      <th>TransactionList</th>\n",
       "      <th>NetworkFailure</th>\n",
       "      <th>ListPicker</th>\n",
       "      <th>Other</th>\n",
       "    </tr>\n",
       "  </thead>\n",
       "  <tbody>\n",
       "    <tr>\n",
       "      <th>0</th>\n",
       "      <td>235136</td>\n",
       "      <td>3</td>\n",
       "      <td>2</td>\n",
       "      <td>23</td>\n",
       "      <td>15</td>\n",
       "      <td>0</td>\n",
       "      <td>0</td>\n",
       "      <td>0</td>\n",
       "      <td>0</td>\n",
       "      <td>1</td>\n",
       "      <td>...</td>\n",
       "      <td>1</td>\n",
       "      <td>0</td>\n",
       "      <td>0</td>\n",
       "      <td>0</td>\n",
       "      <td>0</td>\n",
       "      <td>0</td>\n",
       "      <td>0</td>\n",
       "      <td>0</td>\n",
       "      <td>0</td>\n",
       "      <td>7</td>\n",
       "    </tr>\n",
       "    <tr>\n",
       "      <th>1</th>\n",
       "      <td>333588</td>\n",
       "      <td>6</td>\n",
       "      <td>1</td>\n",
       "      <td>24</td>\n",
       "      <td>13</td>\n",
       "      <td>0</td>\n",
       "      <td>0</td>\n",
       "      <td>0</td>\n",
       "      <td>0</td>\n",
       "      <td>1</td>\n",
       "      <td>...</td>\n",
       "      <td>0</td>\n",
       "      <td>0</td>\n",
       "      <td>0</td>\n",
       "      <td>0</td>\n",
       "      <td>0</td>\n",
       "      <td>0</td>\n",
       "      <td>0</td>\n",
       "      <td>0</td>\n",
       "      <td>0</td>\n",
       "      <td>5</td>\n",
       "    </tr>\n",
       "    <tr>\n",
       "      <th>2</th>\n",
       "      <td>254414</td>\n",
       "      <td>1</td>\n",
       "      <td>19</td>\n",
       "      <td>23</td>\n",
       "      <td>3</td>\n",
       "      <td>0</td>\n",
       "      <td>1</td>\n",
       "      <td>0</td>\n",
       "      <td>1</td>\n",
       "      <td>0</td>\n",
       "      <td>...</td>\n",
       "      <td>0</td>\n",
       "      <td>0</td>\n",
       "      <td>0</td>\n",
       "      <td>0</td>\n",
       "      <td>0</td>\n",
       "      <td>0</td>\n",
       "      <td>0</td>\n",
       "      <td>0</td>\n",
       "      <td>0</td>\n",
       "      <td>0</td>\n",
       "    </tr>\n",
       "    <tr>\n",
       "      <th>3</th>\n",
       "      <td>234192</td>\n",
       "      <td>4</td>\n",
       "      <td>16</td>\n",
       "      <td>28</td>\n",
       "      <td>40</td>\n",
       "      <td>0</td>\n",
       "      <td>0</td>\n",
       "      <td>1</td>\n",
       "      <td>0</td>\n",
       "      <td>0</td>\n",
       "      <td>...</td>\n",
       "      <td>0</td>\n",
       "      <td>0</td>\n",
       "      <td>0</td>\n",
       "      <td>0</td>\n",
       "      <td>0</td>\n",
       "      <td>0</td>\n",
       "      <td>0</td>\n",
       "      <td>0</td>\n",
       "      <td>0</td>\n",
       "      <td>6</td>\n",
       "    </tr>\n",
       "    <tr>\n",
       "      <th>4</th>\n",
       "      <td>51549</td>\n",
       "      <td>1</td>\n",
       "      <td>18</td>\n",
       "      <td>31</td>\n",
       "      <td>32</td>\n",
       "      <td>0</td>\n",
       "      <td>0</td>\n",
       "      <td>1</td>\n",
       "      <td>1</td>\n",
       "      <td>1</td>\n",
       "      <td>...</td>\n",
       "      <td>0</td>\n",
       "      <td>0</td>\n",
       "      <td>0</td>\n",
       "      <td>0</td>\n",
       "      <td>0</td>\n",
       "      <td>0</td>\n",
       "      <td>0</td>\n",
       "      <td>0</td>\n",
       "      <td>0</td>\n",
       "      <td>10</td>\n",
       "    </tr>\n",
       "  </tbody>\n",
       "</table>\n",
       "<p>5 rows × 68 columns</p>\n",
       "</div>"
      ],
      "text/plain": [
       "     user  dayofweek  hour  age  numscreens  minigame  used_premium_feature  \\\n",
       "0  235136          3     2   23          15         0                     0   \n",
       "1  333588          6     1   24          13         0                     0   \n",
       "2  254414          1    19   23           3         0                     1   \n",
       "3  234192          4    16   28          40         0                     0   \n",
       "4   51549          1    18   31          32         0                     0   \n",
       "\n",
       "   enrolled  liked  Loan2  ...  Login  ProfileEmploymentLength  WebView  \\\n",
       "0         0      0      1  ...      1                        0        0   \n",
       "1         0      0      1  ...      0                        0        0   \n",
       "2         0      1      0  ...      0                        0        0   \n",
       "3         1      0      0  ...      0                        0        0   \n",
       "4         1      1      1  ...      0                        0        0   \n",
       "\n",
       "   SecurityModal  Loan4  ResendToken  TransactionList  NetworkFailure  \\\n",
       "0              0      0            0                0               0   \n",
       "1              0      0            0                0               0   \n",
       "2              0      0            0                0               0   \n",
       "3              0      0            0                0               0   \n",
       "4              0      0            0                0               0   \n",
       "\n",
       "   ListPicker  Other  \n",
       "0           0      7  \n",
       "1           0      5  \n",
       "2           0      0  \n",
       "3           0      6  \n",
       "4           0     10  \n",
       "\n",
       "[5 rows x 68 columns]"
      ]
     },
     "execution_count": 21,
     "metadata": {},
     "output_type": "execute_result"
    }
   ],
   "source": [
    "df.head()"
   ]
  },
  {
   "cell_type": "code",
   "execution_count": 22,
   "id": "4c908d0d",
   "metadata": {
    "execution": {
     "iopub.execute_input": "2023-08-27T06:02:12.710300Z",
     "iopub.status.busy": "2023-08-27T06:02:12.709888Z",
     "iopub.status.idle": "2023-08-27T06:02:12.716935Z",
     "shell.execute_reply": "2023-08-27T06:02:12.715581Z"
    },
    "papermill": {
     "duration": 0.036658,
     "end_time": "2023-08-27T06:02:12.719801",
     "exception": false,
     "start_time": "2023-08-27T06:02:12.683143",
     "status": "completed"
    },
    "tags": []
   },
   "outputs": [],
   "source": [
    "def remove_common_screens(dataset, prefix: str, comb_col_name: str):\n",
    "    screens_to_be_removed = []\n",
    "    for screen in top_screens:\n",
    "        if screen.startswith(prefix):\n",
    "            screens_to_be_removed.append(screen)\n",
    "    print(screens_to_be_removed)\n",
    "    dataset[comb_col_name] = dataset[screens_to_be_removed].sum(axis = 1)\n",
    "    return dataset.drop(columns = screens_to_be_removed)"
   ]
  },
  {
   "cell_type": "code",
   "execution_count": 23,
   "id": "396ad484",
   "metadata": {
    "execution": {
     "iopub.execute_input": "2023-08-27T06:02:12.773335Z",
     "iopub.status.busy": "2023-08-27T06:02:12.772945Z",
     "iopub.status.idle": "2023-08-27T06:02:12.903168Z",
     "shell.execute_reply": "2023-08-27T06:02:12.901422Z"
    },
    "papermill": {
     "duration": 0.160709,
     "end_time": "2023-08-27T06:02:12.906039",
     "exception": false,
     "start_time": "2023-08-27T06:02:12.745330",
     "status": "completed"
    },
    "tags": []
   },
   "outputs": [
    {
     "name": "stdout",
     "output_type": "stream",
     "text": [
      "['Credit3Container', 'Credit3Dashboard', 'Credit3', 'Credit1', 'Credit2']\n",
      "['CC1Category', 'CC1', 'CC3']\n",
      "['Loan2', 'Loan3', 'Loan', 'Loan4']\n",
      "['Saving9', 'Saving1', 'Saving8', 'Saving10', 'Saving4', 'Saving7', 'Saving2', 'Saving6', 'Saving2Amount', 'Saving5']\n"
     ]
    }
   ],
   "source": [
    "df = remove_common_screens(df, 'Credit', 'CMCount')\n",
    "df = remove_common_screens(df, 'CC', 'CCCount')\n",
    "df = remove_common_screens(df, 'Loan', 'LoansCount')\n",
    "df = remove_common_screens(df, 'Saving', 'SavingsCount')"
   ]
  },
  {
   "cell_type": "code",
   "execution_count": 24,
   "id": "82c55fce",
   "metadata": {
    "execution": {
     "iopub.execute_input": "2023-08-27T06:02:12.958426Z",
     "iopub.status.busy": "2023-08-27T06:02:12.957979Z",
     "iopub.status.idle": "2023-08-27T06:02:12.979663Z",
     "shell.execute_reply": "2023-08-27T06:02:12.978429Z"
    },
    "papermill": {
     "duration": 0.050904,
     "end_time": "2023-08-27T06:02:12.982275",
     "exception": false,
     "start_time": "2023-08-27T06:02:12.931371",
     "status": "completed"
    },
    "tags": []
   },
   "outputs": [
    {
     "data": {
      "text/html": [
       "<div>\n",
       "<style scoped>\n",
       "    .dataframe tbody tr th:only-of-type {\n",
       "        vertical-align: middle;\n",
       "    }\n",
       "\n",
       "    .dataframe tbody tr th {\n",
       "        vertical-align: top;\n",
       "    }\n",
       "\n",
       "    .dataframe thead th {\n",
       "        text-align: right;\n",
       "    }\n",
       "</style>\n",
       "<table border=\"1\" class=\"dataframe\">\n",
       "  <thead>\n",
       "    <tr style=\"text-align: right;\">\n",
       "      <th></th>\n",
       "      <th>user</th>\n",
       "      <th>dayofweek</th>\n",
       "      <th>hour</th>\n",
       "      <th>age</th>\n",
       "      <th>numscreens</th>\n",
       "      <th>minigame</th>\n",
       "      <th>used_premium_feature</th>\n",
       "      <th>enrolled</th>\n",
       "      <th>liked</th>\n",
       "      <th>location</th>\n",
       "      <th>...</th>\n",
       "      <th>SecurityModal</th>\n",
       "      <th>ResendToken</th>\n",
       "      <th>TransactionList</th>\n",
       "      <th>NetworkFailure</th>\n",
       "      <th>ListPicker</th>\n",
       "      <th>Other</th>\n",
       "      <th>CMCount</th>\n",
       "      <th>CCCount</th>\n",
       "      <th>LoansCount</th>\n",
       "      <th>SavingsCount</th>\n",
       "    </tr>\n",
       "  </thead>\n",
       "  <tbody>\n",
       "    <tr>\n",
       "      <th>0</th>\n",
       "      <td>235136</td>\n",
       "      <td>3</td>\n",
       "      <td>2</td>\n",
       "      <td>23</td>\n",
       "      <td>15</td>\n",
       "      <td>0</td>\n",
       "      <td>0</td>\n",
       "      <td>0</td>\n",
       "      <td>0</td>\n",
       "      <td>0</td>\n",
       "      <td>...</td>\n",
       "      <td>0</td>\n",
       "      <td>0</td>\n",
       "      <td>0</td>\n",
       "      <td>0</td>\n",
       "      <td>0</td>\n",
       "      <td>7</td>\n",
       "      <td>0</td>\n",
       "      <td>0</td>\n",
       "      <td>1</td>\n",
       "      <td>0</td>\n",
       "    </tr>\n",
       "    <tr>\n",
       "      <th>1</th>\n",
       "      <td>333588</td>\n",
       "      <td>6</td>\n",
       "      <td>1</td>\n",
       "      <td>24</td>\n",
       "      <td>13</td>\n",
       "      <td>0</td>\n",
       "      <td>0</td>\n",
       "      <td>0</td>\n",
       "      <td>0</td>\n",
       "      <td>1</td>\n",
       "      <td>...</td>\n",
       "      <td>0</td>\n",
       "      <td>0</td>\n",
       "      <td>0</td>\n",
       "      <td>0</td>\n",
       "      <td>0</td>\n",
       "      <td>5</td>\n",
       "      <td>0</td>\n",
       "      <td>0</td>\n",
       "      <td>1</td>\n",
       "      <td>0</td>\n",
       "    </tr>\n",
       "    <tr>\n",
       "      <th>2</th>\n",
       "      <td>254414</td>\n",
       "      <td>1</td>\n",
       "      <td>19</td>\n",
       "      <td>23</td>\n",
       "      <td>3</td>\n",
       "      <td>0</td>\n",
       "      <td>1</td>\n",
       "      <td>0</td>\n",
       "      <td>1</td>\n",
       "      <td>0</td>\n",
       "      <td>...</td>\n",
       "      <td>0</td>\n",
       "      <td>0</td>\n",
       "      <td>0</td>\n",
       "      <td>0</td>\n",
       "      <td>0</td>\n",
       "      <td>0</td>\n",
       "      <td>0</td>\n",
       "      <td>0</td>\n",
       "      <td>1</td>\n",
       "      <td>0</td>\n",
       "    </tr>\n",
       "    <tr>\n",
       "      <th>3</th>\n",
       "      <td>234192</td>\n",
       "      <td>4</td>\n",
       "      <td>16</td>\n",
       "      <td>28</td>\n",
       "      <td>40</td>\n",
       "      <td>0</td>\n",
       "      <td>0</td>\n",
       "      <td>1</td>\n",
       "      <td>0</td>\n",
       "      <td>1</td>\n",
       "      <td>...</td>\n",
       "      <td>0</td>\n",
       "      <td>0</td>\n",
       "      <td>0</td>\n",
       "      <td>0</td>\n",
       "      <td>0</td>\n",
       "      <td>6</td>\n",
       "      <td>3</td>\n",
       "      <td>0</td>\n",
       "      <td>1</td>\n",
       "      <td>0</td>\n",
       "    </tr>\n",
       "    <tr>\n",
       "      <th>4</th>\n",
       "      <td>51549</td>\n",
       "      <td>1</td>\n",
       "      <td>18</td>\n",
       "      <td>31</td>\n",
       "      <td>32</td>\n",
       "      <td>0</td>\n",
       "      <td>0</td>\n",
       "      <td>1</td>\n",
       "      <td>1</td>\n",
       "      <td>0</td>\n",
       "      <td>...</td>\n",
       "      <td>0</td>\n",
       "      <td>0</td>\n",
       "      <td>0</td>\n",
       "      <td>0</td>\n",
       "      <td>0</td>\n",
       "      <td>10</td>\n",
       "      <td>2</td>\n",
       "      <td>0</td>\n",
       "      <td>1</td>\n",
       "      <td>0</td>\n",
       "    </tr>\n",
       "  </tbody>\n",
       "</table>\n",
       "<p>5 rows × 50 columns</p>\n",
       "</div>"
      ],
      "text/plain": [
       "     user  dayofweek  hour  age  numscreens  minigame  used_premium_feature  \\\n",
       "0  235136          3     2   23          15         0                     0   \n",
       "1  333588          6     1   24          13         0                     0   \n",
       "2  254414          1    19   23           3         0                     1   \n",
       "3  234192          4    16   28          40         0                     0   \n",
       "4   51549          1    18   31          32         0                     0   \n",
       "\n",
       "   enrolled  liked  location  ...  SecurityModal  ResendToken  \\\n",
       "0         0      0         0  ...              0            0   \n",
       "1         0      0         1  ...              0            0   \n",
       "2         0      1         0  ...              0            0   \n",
       "3         1      0         1  ...              0            0   \n",
       "4         1      1         0  ...              0            0   \n",
       "\n",
       "   TransactionList  NetworkFailure  ListPicker  Other  CMCount  CCCount  \\\n",
       "0                0               0           0      7        0        0   \n",
       "1                0               0           0      5        0        0   \n",
       "2                0               0           0      0        0        0   \n",
       "3                0               0           0      6        3        0   \n",
       "4                0               0           0     10        2        0   \n",
       "\n",
       "   LoansCount  SavingsCount  \n",
       "0           1             0  \n",
       "1           1             0  \n",
       "2           1             0  \n",
       "3           1             0  \n",
       "4           1             0  \n",
       "\n",
       "[5 rows x 50 columns]"
      ]
     },
     "execution_count": 24,
     "metadata": {},
     "output_type": "execute_result"
    }
   ],
   "source": [
    "df.head()"
   ]
  },
  {
   "cell_type": "code",
   "execution_count": 25,
   "id": "507b9cc9",
   "metadata": {
    "execution": {
     "iopub.execute_input": "2023-08-27T06:02:13.036434Z",
     "iopub.status.busy": "2023-08-27T06:02:13.035980Z",
     "iopub.status.idle": "2023-08-27T06:02:13.043943Z",
     "shell.execute_reply": "2023-08-27T06:02:13.042652Z"
    },
    "papermill": {
     "duration": 0.037952,
     "end_time": "2023-08-27T06:02:13.046568",
     "exception": false,
     "start_time": "2023-08-27T06:02:13.008616",
     "status": "completed"
    },
    "tags": []
   },
   "outputs": [
    {
     "data": {
      "text/plain": [
       "Index(['user', 'dayofweek', 'hour', 'age', 'numscreens', 'minigame',\n",
       "       'used_premium_feature', 'enrolled', 'liked', 'location', 'Institutions',\n",
       "       'VerifyPhone', 'BankVerification', 'VerifyDateOfBirth', 'ProfilePage',\n",
       "       'VerifyCountry', 'Cycle', 'idscreen', 'Splash', 'RewardsContainer',\n",
       "       'EditProfile', 'Finances', 'Alerts', 'Leaderboard', 'VerifyMobile',\n",
       "       'VerifyHousing', 'RewardDetail', 'VerifyHousingAmount',\n",
       "       'ProfileMaritalStatus', 'ProfileChildren ', 'ProfileEducation',\n",
       "       'ProfileEducationMajor', 'Rewards', 'AccountView', 'VerifyAnnualIncome',\n",
       "       'VerifyIncomeType', 'ProfileJobTitle', 'Login',\n",
       "       'ProfileEmploymentLength', 'WebView', 'SecurityModal', 'ResendToken',\n",
       "       'TransactionList', 'NetworkFailure', 'ListPicker', 'Other', 'CMCount',\n",
       "       'CCCount', 'LoansCount', 'SavingsCount'],\n",
       "      dtype='object')"
      ]
     },
     "execution_count": 25,
     "metadata": {},
     "output_type": "execute_result"
    }
   ],
   "source": [
    "df.columns"
   ]
  },
  {
   "cell_type": "markdown",
   "id": "a07d783e",
   "metadata": {
    "papermill": {
     "duration": 0.025406,
     "end_time": "2023-08-27T06:02:13.097573",
     "exception": false,
     "start_time": "2023-08-27T06:02:13.072167",
     "status": "completed"
    },
    "tags": []
   },
   "source": [
    "## Model building"
   ]
  },
  {
   "cell_type": "code",
   "execution_count": 26,
   "id": "826aa338",
   "metadata": {
    "execution": {
     "iopub.execute_input": "2023-08-27T06:02:13.150423Z",
     "iopub.status.busy": "2023-08-27T06:02:13.149997Z",
     "iopub.status.idle": "2023-08-27T06:02:13.154769Z",
     "shell.execute_reply": "2023-08-27T06:02:13.153689Z"
    },
    "papermill": {
     "duration": 0.034061,
     "end_time": "2023-08-27T06:02:13.157143",
     "exception": false,
     "start_time": "2023-08-27T06:02:13.123082",
     "status": "completed"
    },
    "tags": []
   },
   "outputs": [],
   "source": [
    "import time"
   ]
  },
  {
   "cell_type": "markdown",
   "id": "55bb9f70",
   "metadata": {
    "papermill": {
     "duration": 0.025491,
     "end_time": "2023-08-27T06:02:13.208178",
     "exception": false,
     "start_time": "2023-08-27T06:02:13.182687",
     "status": "completed"
    },
    "tags": []
   },
   "source": [
    "### Data pre-processing"
   ]
  },
  {
   "cell_type": "code",
   "execution_count": 27,
   "id": "0cdee9ed",
   "metadata": {
    "execution": {
     "iopub.execute_input": "2023-08-27T06:02:13.261873Z",
     "iopub.status.busy": "2023-08-27T06:02:13.261450Z",
     "iopub.status.idle": "2023-08-27T06:02:13.304626Z",
     "shell.execute_reply": "2023-08-27T06:02:13.303449Z"
    },
    "papermill": {
     "duration": 0.073524,
     "end_time": "2023-08-27T06:02:13.307416",
     "exception": false,
     "start_time": "2023-08-27T06:02:13.233892",
     "status": "completed"
    },
    "tags": []
   },
   "outputs": [
    {
     "data": {
      "text/html": [
       "<div>\n",
       "<style scoped>\n",
       "    .dataframe tbody tr th:only-of-type {\n",
       "        vertical-align: middle;\n",
       "    }\n",
       "\n",
       "    .dataframe tbody tr th {\n",
       "        vertical-align: top;\n",
       "    }\n",
       "\n",
       "    .dataframe thead th {\n",
       "        text-align: right;\n",
       "    }\n",
       "</style>\n",
       "<table border=\"1\" class=\"dataframe\">\n",
       "  <thead>\n",
       "    <tr style=\"text-align: right;\">\n",
       "      <th></th>\n",
       "      <th>user</th>\n",
       "      <th>dayofweek</th>\n",
       "      <th>hour</th>\n",
       "      <th>age</th>\n",
       "      <th>numscreens</th>\n",
       "      <th>minigame</th>\n",
       "      <th>used_premium_feature</th>\n",
       "      <th>liked</th>\n",
       "      <th>location</th>\n",
       "      <th>Institutions</th>\n",
       "      <th>...</th>\n",
       "      <th>SecurityModal</th>\n",
       "      <th>ResendToken</th>\n",
       "      <th>TransactionList</th>\n",
       "      <th>NetworkFailure</th>\n",
       "      <th>ListPicker</th>\n",
       "      <th>Other</th>\n",
       "      <th>CMCount</th>\n",
       "      <th>CCCount</th>\n",
       "      <th>LoansCount</th>\n",
       "      <th>SavingsCount</th>\n",
       "    </tr>\n",
       "  </thead>\n",
       "  <tbody>\n",
       "    <tr>\n",
       "      <th>0</th>\n",
       "      <td>235136</td>\n",
       "      <td>3</td>\n",
       "      <td>2</td>\n",
       "      <td>23</td>\n",
       "      <td>15</td>\n",
       "      <td>0</td>\n",
       "      <td>0</td>\n",
       "      <td>0</td>\n",
       "      <td>0</td>\n",
       "      <td>0</td>\n",
       "      <td>...</td>\n",
       "      <td>0</td>\n",
       "      <td>0</td>\n",
       "      <td>0</td>\n",
       "      <td>0</td>\n",
       "      <td>0</td>\n",
       "      <td>7</td>\n",
       "      <td>0</td>\n",
       "      <td>0</td>\n",
       "      <td>1</td>\n",
       "      <td>0</td>\n",
       "    </tr>\n",
       "    <tr>\n",
       "      <th>1</th>\n",
       "      <td>333588</td>\n",
       "      <td>6</td>\n",
       "      <td>1</td>\n",
       "      <td>24</td>\n",
       "      <td>13</td>\n",
       "      <td>0</td>\n",
       "      <td>0</td>\n",
       "      <td>0</td>\n",
       "      <td>1</td>\n",
       "      <td>1</td>\n",
       "      <td>...</td>\n",
       "      <td>0</td>\n",
       "      <td>0</td>\n",
       "      <td>0</td>\n",
       "      <td>0</td>\n",
       "      <td>0</td>\n",
       "      <td>5</td>\n",
       "      <td>0</td>\n",
       "      <td>0</td>\n",
       "      <td>1</td>\n",
       "      <td>0</td>\n",
       "    </tr>\n",
       "    <tr>\n",
       "      <th>2</th>\n",
       "      <td>254414</td>\n",
       "      <td>1</td>\n",
       "      <td>19</td>\n",
       "      <td>23</td>\n",
       "      <td>3</td>\n",
       "      <td>0</td>\n",
       "      <td>1</td>\n",
       "      <td>1</td>\n",
       "      <td>0</td>\n",
       "      <td>0</td>\n",
       "      <td>...</td>\n",
       "      <td>0</td>\n",
       "      <td>0</td>\n",
       "      <td>0</td>\n",
       "      <td>0</td>\n",
       "      <td>0</td>\n",
       "      <td>0</td>\n",
       "      <td>0</td>\n",
       "      <td>0</td>\n",
       "      <td>1</td>\n",
       "      <td>0</td>\n",
       "    </tr>\n",
       "    <tr>\n",
       "      <th>3</th>\n",
       "      <td>234192</td>\n",
       "      <td>4</td>\n",
       "      <td>16</td>\n",
       "      <td>28</td>\n",
       "      <td>40</td>\n",
       "      <td>0</td>\n",
       "      <td>0</td>\n",
       "      <td>0</td>\n",
       "      <td>1</td>\n",
       "      <td>0</td>\n",
       "      <td>...</td>\n",
       "      <td>0</td>\n",
       "      <td>0</td>\n",
       "      <td>0</td>\n",
       "      <td>0</td>\n",
       "      <td>0</td>\n",
       "      <td>6</td>\n",
       "      <td>3</td>\n",
       "      <td>0</td>\n",
       "      <td>1</td>\n",
       "      <td>0</td>\n",
       "    </tr>\n",
       "    <tr>\n",
       "      <th>4</th>\n",
       "      <td>51549</td>\n",
       "      <td>1</td>\n",
       "      <td>18</td>\n",
       "      <td>31</td>\n",
       "      <td>32</td>\n",
       "      <td>0</td>\n",
       "      <td>0</td>\n",
       "      <td>1</td>\n",
       "      <td>0</td>\n",
       "      <td>1</td>\n",
       "      <td>...</td>\n",
       "      <td>0</td>\n",
       "      <td>0</td>\n",
       "      <td>0</td>\n",
       "      <td>0</td>\n",
       "      <td>0</td>\n",
       "      <td>10</td>\n",
       "      <td>2</td>\n",
       "      <td>0</td>\n",
       "      <td>1</td>\n",
       "      <td>0</td>\n",
       "    </tr>\n",
       "    <tr>\n",
       "      <th>...</th>\n",
       "      <td>...</td>\n",
       "      <td>...</td>\n",
       "      <td>...</td>\n",
       "      <td>...</td>\n",
       "      <td>...</td>\n",
       "      <td>...</td>\n",
       "      <td>...</td>\n",
       "      <td>...</td>\n",
       "      <td>...</td>\n",
       "      <td>...</td>\n",
       "      <td>...</td>\n",
       "      <td>...</td>\n",
       "      <td>...</td>\n",
       "      <td>...</td>\n",
       "      <td>...</td>\n",
       "      <td>...</td>\n",
       "      <td>...</td>\n",
       "      <td>...</td>\n",
       "      <td>...</td>\n",
       "      <td>...</td>\n",
       "      <td>...</td>\n",
       "    </tr>\n",
       "    <tr>\n",
       "      <th>49995</th>\n",
       "      <td>222774</td>\n",
       "      <td>3</td>\n",
       "      <td>13</td>\n",
       "      <td>32</td>\n",
       "      <td>13</td>\n",
       "      <td>0</td>\n",
       "      <td>0</td>\n",
       "      <td>0</td>\n",
       "      <td>0</td>\n",
       "      <td>0</td>\n",
       "      <td>...</td>\n",
       "      <td>0</td>\n",
       "      <td>0</td>\n",
       "      <td>0</td>\n",
       "      <td>0</td>\n",
       "      <td>0</td>\n",
       "      <td>6</td>\n",
       "      <td>2</td>\n",
       "      <td>0</td>\n",
       "      <td>0</td>\n",
       "      <td>0</td>\n",
       "    </tr>\n",
       "    <tr>\n",
       "      <th>49996</th>\n",
       "      <td>169179</td>\n",
       "      <td>1</td>\n",
       "      <td>0</td>\n",
       "      <td>35</td>\n",
       "      <td>4</td>\n",
       "      <td>0</td>\n",
       "      <td>1</td>\n",
       "      <td>0</td>\n",
       "      <td>0</td>\n",
       "      <td>0</td>\n",
       "      <td>...</td>\n",
       "      <td>0</td>\n",
       "      <td>0</td>\n",
       "      <td>0</td>\n",
       "      <td>0</td>\n",
       "      <td>0</td>\n",
       "      <td>1</td>\n",
       "      <td>0</td>\n",
       "      <td>0</td>\n",
       "      <td>0</td>\n",
       "      <td>0</td>\n",
       "    </tr>\n",
       "    <tr>\n",
       "      <th>49997</th>\n",
       "      <td>302367</td>\n",
       "      <td>2</td>\n",
       "      <td>22</td>\n",
       "      <td>39</td>\n",
       "      <td>25</td>\n",
       "      <td>0</td>\n",
       "      <td>0</td>\n",
       "      <td>0</td>\n",
       "      <td>1</td>\n",
       "      <td>0</td>\n",
       "      <td>...</td>\n",
       "      <td>0</td>\n",
       "      <td>0</td>\n",
       "      <td>0</td>\n",
       "      <td>0</td>\n",
       "      <td>0</td>\n",
       "      <td>6</td>\n",
       "      <td>0</td>\n",
       "      <td>0</td>\n",
       "      <td>0</td>\n",
       "      <td>0</td>\n",
       "    </tr>\n",
       "    <tr>\n",
       "      <th>49998</th>\n",
       "      <td>324905</td>\n",
       "      <td>6</td>\n",
       "      <td>12</td>\n",
       "      <td>27</td>\n",
       "      <td>26</td>\n",
       "      <td>0</td>\n",
       "      <td>0</td>\n",
       "      <td>0</td>\n",
       "      <td>1</td>\n",
       "      <td>0</td>\n",
       "      <td>...</td>\n",
       "      <td>0</td>\n",
       "      <td>0</td>\n",
       "      <td>0</td>\n",
       "      <td>0</td>\n",
       "      <td>0</td>\n",
       "      <td>13</td>\n",
       "      <td>0</td>\n",
       "      <td>0</td>\n",
       "      <td>0</td>\n",
       "      <td>0</td>\n",
       "    </tr>\n",
       "    <tr>\n",
       "      <th>49999</th>\n",
       "      <td>27047</td>\n",
       "      <td>4</td>\n",
       "      <td>1</td>\n",
       "      <td>25</td>\n",
       "      <td>26</td>\n",
       "      <td>0</td>\n",
       "      <td>0</td>\n",
       "      <td>1</td>\n",
       "      <td>0</td>\n",
       "      <td>0</td>\n",
       "      <td>...</td>\n",
       "      <td>0</td>\n",
       "      <td>0</td>\n",
       "      <td>0</td>\n",
       "      <td>0</td>\n",
       "      <td>0</td>\n",
       "      <td>5</td>\n",
       "      <td>0</td>\n",
       "      <td>0</td>\n",
       "      <td>1</td>\n",
       "      <td>7</td>\n",
       "    </tr>\n",
       "  </tbody>\n",
       "</table>\n",
       "<p>50000 rows × 49 columns</p>\n",
       "</div>"
      ],
      "text/plain": [
       "         user  dayofweek  hour  age  numscreens  minigame  \\\n",
       "0      235136          3     2   23          15         0   \n",
       "1      333588          6     1   24          13         0   \n",
       "2      254414          1    19   23           3         0   \n",
       "3      234192          4    16   28          40         0   \n",
       "4       51549          1    18   31          32         0   \n",
       "...       ...        ...   ...  ...         ...       ...   \n",
       "49995  222774          3    13   32          13         0   \n",
       "49996  169179          1     0   35           4         0   \n",
       "49997  302367          2    22   39          25         0   \n",
       "49998  324905          6    12   27          26         0   \n",
       "49999   27047          4     1   25          26         0   \n",
       "\n",
       "       used_premium_feature  liked  location  Institutions  ...  \\\n",
       "0                         0      0         0             0  ...   \n",
       "1                         0      0         1             1  ...   \n",
       "2                         1      1         0             0  ...   \n",
       "3                         0      0         1             0  ...   \n",
       "4                         0      1         0             1  ...   \n",
       "...                     ...    ...       ...           ...  ...   \n",
       "49995                     0      0         0             0  ...   \n",
       "49996                     1      0         0             0  ...   \n",
       "49997                     0      0         1             0  ...   \n",
       "49998                     0      0         1             0  ...   \n",
       "49999                     0      1         0             0  ...   \n",
       "\n",
       "       SecurityModal  ResendToken  TransactionList  NetworkFailure  \\\n",
       "0                  0            0                0               0   \n",
       "1                  0            0                0               0   \n",
       "2                  0            0                0               0   \n",
       "3                  0            0                0               0   \n",
       "4                  0            0                0               0   \n",
       "...              ...          ...              ...             ...   \n",
       "49995              0            0                0               0   \n",
       "49996              0            0                0               0   \n",
       "49997              0            0                0               0   \n",
       "49998              0            0                0               0   \n",
       "49999              0            0                0               0   \n",
       "\n",
       "       ListPicker  Other  CMCount  CCCount  LoansCount  SavingsCount  \n",
       "0               0      7        0        0           1             0  \n",
       "1               0      5        0        0           1             0  \n",
       "2               0      0        0        0           1             0  \n",
       "3               0      6        3        0           1             0  \n",
       "4               0     10        2        0           1             0  \n",
       "...           ...    ...      ...      ...         ...           ...  \n",
       "49995           0      6        2        0           0             0  \n",
       "49996           0      1        0        0           0             0  \n",
       "49997           0      6        0        0           0             0  \n",
       "49998           0     13        0        0           0             0  \n",
       "49999           0      5        0        0           1             7  \n",
       "\n",
       "[50000 rows x 49 columns]"
      ]
     },
     "execution_count": 27,
     "metadata": {},
     "output_type": "execute_result"
    }
   ],
   "source": [
    "response = df['enrolled']\n",
    "df.drop(columns = ['enrolled'])"
   ]
  },
  {
   "cell_type": "code",
   "execution_count": 28,
   "id": "86758f72",
   "metadata": {
    "execution": {
     "iopub.execute_input": "2023-08-27T06:02:13.363101Z",
     "iopub.status.busy": "2023-08-27T06:02:13.362114Z",
     "iopub.status.idle": "2023-08-27T06:02:13.651282Z",
     "shell.execute_reply": "2023-08-27T06:02:13.650365Z"
    },
    "papermill": {
     "duration": 0.319929,
     "end_time": "2023-08-27T06:02:13.653985",
     "exception": false,
     "start_time": "2023-08-27T06:02:13.334056",
     "status": "completed"
    },
    "tags": []
   },
   "outputs": [],
   "source": [
    "from sklearn.model_selection import train_test_split"
   ]
  },
  {
   "cell_type": "code",
   "execution_count": 29,
   "id": "9bf04b09",
   "metadata": {
    "execution": {
     "iopub.execute_input": "2023-08-27T06:02:13.710183Z",
     "iopub.status.busy": "2023-08-27T06:02:13.708953Z",
     "iopub.status.idle": "2023-08-27T06:02:13.755005Z",
     "shell.execute_reply": "2023-08-27T06:02:13.753156Z"
    },
    "papermill": {
     "duration": 0.077371,
     "end_time": "2023-08-27T06:02:13.758205",
     "exception": false,
     "start_time": "2023-08-27T06:02:13.680834",
     "status": "completed"
    },
    "tags": []
   },
   "outputs": [],
   "source": [
    "X_train, X_test, y_train, y_test = train_test_split(df, response, test_size=0.2, random_state=0)"
   ]
  },
  {
   "cell_type": "code",
   "execution_count": 30,
   "id": "0187a194",
   "metadata": {
    "execution": {
     "iopub.execute_input": "2023-08-27T06:02:13.814056Z",
     "iopub.status.busy": "2023-08-27T06:02:13.813253Z",
     "iopub.status.idle": "2023-08-27T06:02:13.853557Z",
     "shell.execute_reply": "2023-08-27T06:02:13.852258Z"
    },
    "papermill": {
     "duration": 0.0713,
     "end_time": "2023-08-27T06:02:13.856285",
     "exception": false,
     "start_time": "2023-08-27T06:02:13.784985",
     "status": "completed"
    },
    "tags": []
   },
   "outputs": [
    {
     "data": {
      "text/html": [
       "<div>\n",
       "<style scoped>\n",
       "    .dataframe tbody tr th:only-of-type {\n",
       "        vertical-align: middle;\n",
       "    }\n",
       "\n",
       "    .dataframe tbody tr th {\n",
       "        vertical-align: top;\n",
       "    }\n",
       "\n",
       "    .dataframe thead th {\n",
       "        text-align: right;\n",
       "    }\n",
       "</style>\n",
       "<table border=\"1\" class=\"dataframe\">\n",
       "  <thead>\n",
       "    <tr style=\"text-align: right;\">\n",
       "      <th></th>\n",
       "      <th>dayofweek</th>\n",
       "      <th>hour</th>\n",
       "      <th>age</th>\n",
       "      <th>numscreens</th>\n",
       "      <th>minigame</th>\n",
       "      <th>used_premium_feature</th>\n",
       "      <th>enrolled</th>\n",
       "      <th>liked</th>\n",
       "      <th>location</th>\n",
       "      <th>Institutions</th>\n",
       "      <th>...</th>\n",
       "      <th>SecurityModal</th>\n",
       "      <th>ResendToken</th>\n",
       "      <th>TransactionList</th>\n",
       "      <th>NetworkFailure</th>\n",
       "      <th>ListPicker</th>\n",
       "      <th>Other</th>\n",
       "      <th>CMCount</th>\n",
       "      <th>CCCount</th>\n",
       "      <th>LoansCount</th>\n",
       "      <th>SavingsCount</th>\n",
       "    </tr>\n",
       "  </thead>\n",
       "  <tbody>\n",
       "    <tr>\n",
       "      <th>11841</th>\n",
       "      <td>0</td>\n",
       "      <td>1</td>\n",
       "      <td>41</td>\n",
       "      <td>34</td>\n",
       "      <td>0</td>\n",
       "      <td>0</td>\n",
       "      <td>1</td>\n",
       "      <td>1</td>\n",
       "      <td>1</td>\n",
       "      <td>0</td>\n",
       "      <td>...</td>\n",
       "      <td>0</td>\n",
       "      <td>0</td>\n",
       "      <td>0</td>\n",
       "      <td>0</td>\n",
       "      <td>0</td>\n",
       "      <td>11</td>\n",
       "      <td>0</td>\n",
       "      <td>0</td>\n",
       "      <td>0</td>\n",
       "      <td>0</td>\n",
       "    </tr>\n",
       "    <tr>\n",
       "      <th>19602</th>\n",
       "      <td>5</td>\n",
       "      <td>6</td>\n",
       "      <td>26</td>\n",
       "      <td>30</td>\n",
       "      <td>0</td>\n",
       "      <td>0</td>\n",
       "      <td>1</td>\n",
       "      <td>0</td>\n",
       "      <td>1</td>\n",
       "      <td>0</td>\n",
       "      <td>...</td>\n",
       "      <td>0</td>\n",
       "      <td>0</td>\n",
       "      <td>0</td>\n",
       "      <td>0</td>\n",
       "      <td>0</td>\n",
       "      <td>9</td>\n",
       "      <td>0</td>\n",
       "      <td>0</td>\n",
       "      <td>1</td>\n",
       "      <td>0</td>\n",
       "    </tr>\n",
       "    <tr>\n",
       "      <th>45519</th>\n",
       "      <td>0</td>\n",
       "      <td>15</td>\n",
       "      <td>37</td>\n",
       "      <td>11</td>\n",
       "      <td>0</td>\n",
       "      <td>1</td>\n",
       "      <td>0</td>\n",
       "      <td>0</td>\n",
       "      <td>0</td>\n",
       "      <td>0</td>\n",
       "      <td>...</td>\n",
       "      <td>0</td>\n",
       "      <td>0</td>\n",
       "      <td>0</td>\n",
       "      <td>0</td>\n",
       "      <td>0</td>\n",
       "      <td>5</td>\n",
       "      <td>1</td>\n",
       "      <td>0</td>\n",
       "      <td>2</td>\n",
       "      <td>0</td>\n",
       "    </tr>\n",
       "    <tr>\n",
       "      <th>25747</th>\n",
       "      <td>5</td>\n",
       "      <td>19</td>\n",
       "      <td>21</td>\n",
       "      <td>13</td>\n",
       "      <td>0</td>\n",
       "      <td>0</td>\n",
       "      <td>1</td>\n",
       "      <td>1</td>\n",
       "      <td>0</td>\n",
       "      <td>0</td>\n",
       "      <td>...</td>\n",
       "      <td>0</td>\n",
       "      <td>0</td>\n",
       "      <td>0</td>\n",
       "      <td>0</td>\n",
       "      <td>0</td>\n",
       "      <td>8</td>\n",
       "      <td>0</td>\n",
       "      <td>0</td>\n",
       "      <td>0</td>\n",
       "      <td>0</td>\n",
       "    </tr>\n",
       "    <tr>\n",
       "      <th>42642</th>\n",
       "      <td>5</td>\n",
       "      <td>1</td>\n",
       "      <td>30</td>\n",
       "      <td>32</td>\n",
       "      <td>0</td>\n",
       "      <td>0</td>\n",
       "      <td>1</td>\n",
       "      <td>0</td>\n",
       "      <td>0</td>\n",
       "      <td>0</td>\n",
       "      <td>...</td>\n",
       "      <td>0</td>\n",
       "      <td>0</td>\n",
       "      <td>0</td>\n",
       "      <td>0</td>\n",
       "      <td>0</td>\n",
       "      <td>4</td>\n",
       "      <td>0</td>\n",
       "      <td>2</td>\n",
       "      <td>0</td>\n",
       "      <td>3</td>\n",
       "    </tr>\n",
       "    <tr>\n",
       "      <th>...</th>\n",
       "      <td>...</td>\n",
       "      <td>...</td>\n",
       "      <td>...</td>\n",
       "      <td>...</td>\n",
       "      <td>...</td>\n",
       "      <td>...</td>\n",
       "      <td>...</td>\n",
       "      <td>...</td>\n",
       "      <td>...</td>\n",
       "      <td>...</td>\n",
       "      <td>...</td>\n",
       "      <td>...</td>\n",
       "      <td>...</td>\n",
       "      <td>...</td>\n",
       "      <td>...</td>\n",
       "      <td>...</td>\n",
       "      <td>...</td>\n",
       "      <td>...</td>\n",
       "      <td>...</td>\n",
       "      <td>...</td>\n",
       "      <td>...</td>\n",
       "    </tr>\n",
       "    <tr>\n",
       "      <th>25091</th>\n",
       "      <td>1</td>\n",
       "      <td>22</td>\n",
       "      <td>39</td>\n",
       "      <td>31</td>\n",
       "      <td>0</td>\n",
       "      <td>0</td>\n",
       "      <td>1</td>\n",
       "      <td>0</td>\n",
       "      <td>1</td>\n",
       "      <td>0</td>\n",
       "      <td>...</td>\n",
       "      <td>0</td>\n",
       "      <td>0</td>\n",
       "      <td>0</td>\n",
       "      <td>0</td>\n",
       "      <td>0</td>\n",
       "      <td>7</td>\n",
       "      <td>0</td>\n",
       "      <td>0</td>\n",
       "      <td>1</td>\n",
       "      <td>0</td>\n",
       "    </tr>\n",
       "    <tr>\n",
       "      <th>27853</th>\n",
       "      <td>0</td>\n",
       "      <td>12</td>\n",
       "      <td>34</td>\n",
       "      <td>15</td>\n",
       "      <td>0</td>\n",
       "      <td>0</td>\n",
       "      <td>1</td>\n",
       "      <td>0</td>\n",
       "      <td>0</td>\n",
       "      <td>0</td>\n",
       "      <td>...</td>\n",
       "      <td>0</td>\n",
       "      <td>0</td>\n",
       "      <td>0</td>\n",
       "      <td>0</td>\n",
       "      <td>0</td>\n",
       "      <td>9</td>\n",
       "      <td>0</td>\n",
       "      <td>0</td>\n",
       "      <td>1</td>\n",
       "      <td>0</td>\n",
       "    </tr>\n",
       "    <tr>\n",
       "      <th>47278</th>\n",
       "      <td>5</td>\n",
       "      <td>17</td>\n",
       "      <td>27</td>\n",
       "      <td>68</td>\n",
       "      <td>0</td>\n",
       "      <td>0</td>\n",
       "      <td>0</td>\n",
       "      <td>1</td>\n",
       "      <td>0</td>\n",
       "      <td>1</td>\n",
       "      <td>...</td>\n",
       "      <td>0</td>\n",
       "      <td>0</td>\n",
       "      <td>0</td>\n",
       "      <td>0</td>\n",
       "      <td>0</td>\n",
       "      <td>5</td>\n",
       "      <td>3</td>\n",
       "      <td>2</td>\n",
       "      <td>2</td>\n",
       "      <td>0</td>\n",
       "    </tr>\n",
       "    <tr>\n",
       "      <th>37020</th>\n",
       "      <td>1</td>\n",
       "      <td>3</td>\n",
       "      <td>21</td>\n",
       "      <td>25</td>\n",
       "      <td>0</td>\n",
       "      <td>0</td>\n",
       "      <td>1</td>\n",
       "      <td>0</td>\n",
       "      <td>1</td>\n",
       "      <td>0</td>\n",
       "      <td>...</td>\n",
       "      <td>0</td>\n",
       "      <td>0</td>\n",
       "      <td>0</td>\n",
       "      <td>0</td>\n",
       "      <td>0</td>\n",
       "      <td>9</td>\n",
       "      <td>0</td>\n",
       "      <td>0</td>\n",
       "      <td>0</td>\n",
       "      <td>0</td>\n",
       "    </tr>\n",
       "    <tr>\n",
       "      <th>2217</th>\n",
       "      <td>4</td>\n",
       "      <td>1</td>\n",
       "      <td>90</td>\n",
       "      <td>75</td>\n",
       "      <td>1</td>\n",
       "      <td>0</td>\n",
       "      <td>1</td>\n",
       "      <td>0</td>\n",
       "      <td>0</td>\n",
       "      <td>1</td>\n",
       "      <td>...</td>\n",
       "      <td>0</td>\n",
       "      <td>0</td>\n",
       "      <td>0</td>\n",
       "      <td>0</td>\n",
       "      <td>0</td>\n",
       "      <td>8</td>\n",
       "      <td>0</td>\n",
       "      <td>0</td>\n",
       "      <td>0</td>\n",
       "      <td>4</td>\n",
       "    </tr>\n",
       "  </tbody>\n",
       "</table>\n",
       "<p>10000 rows × 49 columns</p>\n",
       "</div>"
      ],
      "text/plain": [
       "       dayofweek  hour  age  numscreens  minigame  used_premium_feature  \\\n",
       "11841          0     1   41          34         0                     0   \n",
       "19602          5     6   26          30         0                     0   \n",
       "45519          0    15   37          11         0                     1   \n",
       "25747          5    19   21          13         0                     0   \n",
       "42642          5     1   30          32         0                     0   \n",
       "...          ...   ...  ...         ...       ...                   ...   \n",
       "25091          1    22   39          31         0                     0   \n",
       "27853          0    12   34          15         0                     0   \n",
       "47278          5    17   27          68         0                     0   \n",
       "37020          1     3   21          25         0                     0   \n",
       "2217           4     1   90          75         1                     0   \n",
       "\n",
       "       enrolled  liked  location  Institutions  ...  SecurityModal  \\\n",
       "11841         1      1         1             0  ...              0   \n",
       "19602         1      0         1             0  ...              0   \n",
       "45519         0      0         0             0  ...              0   \n",
       "25747         1      1         0             0  ...              0   \n",
       "42642         1      0         0             0  ...              0   \n",
       "...         ...    ...       ...           ...  ...            ...   \n",
       "25091         1      0         1             0  ...              0   \n",
       "27853         1      0         0             0  ...              0   \n",
       "47278         0      1         0             1  ...              0   \n",
       "37020         1      0         1             0  ...              0   \n",
       "2217          1      0         0             1  ...              0   \n",
       "\n",
       "       ResendToken  TransactionList  NetworkFailure  ListPicker  Other  \\\n",
       "11841            0                0               0           0     11   \n",
       "19602            0                0               0           0      9   \n",
       "45519            0                0               0           0      5   \n",
       "25747            0                0               0           0      8   \n",
       "42642            0                0               0           0      4   \n",
       "...            ...              ...             ...         ...    ...   \n",
       "25091            0                0               0           0      7   \n",
       "27853            0                0               0           0      9   \n",
       "47278            0                0               0           0      5   \n",
       "37020            0                0               0           0      9   \n",
       "2217             0                0               0           0      8   \n",
       "\n",
       "       CMCount  CCCount  LoansCount  SavingsCount  \n",
       "11841        0        0           0             0  \n",
       "19602        0        0           1             0  \n",
       "45519        1        0           2             0  \n",
       "25747        0        0           0             0  \n",
       "42642        0        2           0             3  \n",
       "...        ...      ...         ...           ...  \n",
       "25091        0        0           1             0  \n",
       "27853        0        0           1             0  \n",
       "47278        3        2           2             0  \n",
       "37020        0        0           0             0  \n",
       "2217         0        0           0             4  \n",
       "\n",
       "[10000 rows x 49 columns]"
      ]
     },
     "execution_count": 30,
     "metadata": {},
     "output_type": "execute_result"
    }
   ],
   "source": [
    "train_identifier = X_train['user']\n",
    "X_train.drop(columns = ['user'])\n",
    "\n",
    "test_identifier = X_test['user']\n",
    "X_test.drop(columns = ['user'])"
   ]
  },
  {
   "cell_type": "code",
   "execution_count": 31,
   "id": "5eebfe66",
   "metadata": {
    "execution": {
     "iopub.execute_input": "2023-08-27T06:02:13.915723Z",
     "iopub.status.busy": "2023-08-27T06:02:13.914973Z",
     "iopub.status.idle": "2023-08-27T06:02:13.920824Z",
     "shell.execute_reply": "2023-08-27T06:02:13.919626Z"
    },
    "papermill": {
     "duration": 0.038115,
     "end_time": "2023-08-27T06:02:13.923408",
     "exception": false,
     "start_time": "2023-08-27T06:02:13.885293",
     "status": "completed"
    },
    "tags": []
   },
   "outputs": [],
   "source": [
    "from sklearn.preprocessing import StandardScaler"
   ]
  },
  {
   "cell_type": "code",
   "execution_count": 32,
   "id": "0533a4d9",
   "metadata": {
    "execution": {
     "iopub.execute_input": "2023-08-27T06:02:13.979479Z",
     "iopub.status.busy": "2023-08-27T06:02:13.979020Z",
     "iopub.status.idle": "2023-08-27T06:02:13.984375Z",
     "shell.execute_reply": "2023-08-27T06:02:13.983129Z"
    },
    "papermill": {
     "duration": 0.036537,
     "end_time": "2023-08-27T06:02:13.987017",
     "exception": false,
     "start_time": "2023-08-27T06:02:13.950480",
     "status": "completed"
    },
    "tags": []
   },
   "outputs": [],
   "source": [
    "sc_X = StandardScaler()"
   ]
  },
  {
   "cell_type": "code",
   "execution_count": 33,
   "id": "d02a6bf2",
   "metadata": {
    "execution": {
     "iopub.execute_input": "2023-08-27T06:02:14.044902Z",
     "iopub.status.busy": "2023-08-27T06:02:14.044468Z",
     "iopub.status.idle": "2023-08-27T06:02:14.101700Z",
     "shell.execute_reply": "2023-08-27T06:02:14.100263Z"
    },
    "papermill": {
     "duration": 0.089146,
     "end_time": "2023-08-27T06:02:14.104800",
     "exception": false,
     "start_time": "2023-08-27T06:02:14.015654",
     "status": "completed"
    },
    "tags": []
   },
   "outputs": [],
   "source": [
    "X_train2 = pd.DataFrame(sc_X.fit_transform(X_train))\n",
    "X_test2 = pd.DataFrame(sc_X.fit_transform(X_test))\n",
    "\n",
    "X_train2.columns = X_train.columns\n",
    "X_test2.columns = X_test.columns"
   ]
  },
  {
   "cell_type": "code",
   "execution_count": 34,
   "id": "57d1af83",
   "metadata": {
    "execution": {
     "iopub.execute_input": "2023-08-27T06:02:14.163958Z",
     "iopub.status.busy": "2023-08-27T06:02:14.163525Z",
     "iopub.status.idle": "2023-08-27T06:02:14.169660Z",
     "shell.execute_reply": "2023-08-27T06:02:14.168299Z"
    },
    "papermill": {
     "duration": 0.037886,
     "end_time": "2023-08-27T06:02:14.172187",
     "exception": false,
     "start_time": "2023-08-27T06:02:14.134301",
     "status": "completed"
    },
    "tags": []
   },
   "outputs": [],
   "source": [
    "X_train2.index = X_train.index.values\n",
    "X_test2.index = X_test.index.values"
   ]
  },
  {
   "cell_type": "code",
   "execution_count": 35,
   "id": "0f836182",
   "metadata": {
    "execution": {
     "iopub.execute_input": "2023-08-27T06:02:14.231735Z",
     "iopub.status.busy": "2023-08-27T06:02:14.230959Z",
     "iopub.status.idle": "2023-08-27T06:02:14.235983Z",
     "shell.execute_reply": "2023-08-27T06:02:14.234804Z"
    },
    "papermill": {
     "duration": 0.037952,
     "end_time": "2023-08-27T06:02:14.238704",
     "exception": false,
     "start_time": "2023-08-27T06:02:14.200752",
     "status": "completed"
    },
    "tags": []
   },
   "outputs": [],
   "source": [
    "X_train = X_train2\n",
    "X_test = X_test2"
   ]
  },
  {
   "cell_type": "code",
   "execution_count": 36,
   "id": "3668056b",
   "metadata": {
    "execution": {
     "iopub.execute_input": "2023-08-27T06:02:14.295188Z",
     "iopub.status.busy": "2023-08-27T06:02:14.294762Z",
     "iopub.status.idle": "2023-08-27T06:02:14.323296Z",
     "shell.execute_reply": "2023-08-27T06:02:14.322060Z"
    },
    "papermill": {
     "duration": 0.059727,
     "end_time": "2023-08-27T06:02:14.325879",
     "exception": false,
     "start_time": "2023-08-27T06:02:14.266152",
     "status": "completed"
    },
    "tags": []
   },
   "outputs": [
    {
     "data": {
      "text/html": [
       "<div>\n",
       "<style scoped>\n",
       "    .dataframe tbody tr th:only-of-type {\n",
       "        vertical-align: middle;\n",
       "    }\n",
       "\n",
       "    .dataframe tbody tr th {\n",
       "        vertical-align: top;\n",
       "    }\n",
       "\n",
       "    .dataframe thead th {\n",
       "        text-align: right;\n",
       "    }\n",
       "</style>\n",
       "<table border=\"1\" class=\"dataframe\">\n",
       "  <thead>\n",
       "    <tr style=\"text-align: right;\">\n",
       "      <th></th>\n",
       "      <th>user</th>\n",
       "      <th>dayofweek</th>\n",
       "      <th>hour</th>\n",
       "      <th>age</th>\n",
       "      <th>numscreens</th>\n",
       "      <th>minigame</th>\n",
       "      <th>used_premium_feature</th>\n",
       "      <th>enrolled</th>\n",
       "      <th>liked</th>\n",
       "      <th>location</th>\n",
       "      <th>...</th>\n",
       "      <th>SecurityModal</th>\n",
       "      <th>ResendToken</th>\n",
       "      <th>TransactionList</th>\n",
       "      <th>NetworkFailure</th>\n",
       "      <th>ListPicker</th>\n",
       "      <th>Other</th>\n",
       "      <th>CMCount</th>\n",
       "      <th>CCCount</th>\n",
       "      <th>LoansCount</th>\n",
       "      <th>SavingsCount</th>\n",
       "    </tr>\n",
       "  </thead>\n",
       "  <tbody>\n",
       "    <tr>\n",
       "      <th>20330</th>\n",
       "      <td>1.193341</td>\n",
       "      <td>-0.504961</td>\n",
       "      <td>1.000837</td>\n",
       "      <td>0.025525</td>\n",
       "      <td>-1.026726</td>\n",
       "      <td>-0.346830</td>\n",
       "      <td>2.186018</td>\n",
       "      <td>-0.996108</td>\n",
       "      <td>2.246319</td>\n",
       "      <td>-1.039218</td>\n",
       "      <td>...</td>\n",
       "      <td>-0.119697</td>\n",
       "      <td>-0.11742</td>\n",
       "      <td>-0.115879</td>\n",
       "      <td>-0.091207</td>\n",
       "      <td>-0.087221</td>\n",
       "      <td>-1.147303</td>\n",
       "      <td>-0.763372</td>\n",
       "      <td>-0.289185</td>\n",
       "      <td>1.785389</td>\n",
       "      <td>-0.260877</td>\n",
       "    </tr>\n",
       "    <tr>\n",
       "      <th>17532</th>\n",
       "      <td>-0.776427</td>\n",
       "      <td>-0.997389</td>\n",
       "      <td>1.135280</td>\n",
       "      <td>-0.898034</td>\n",
       "      <td>1.328829</td>\n",
       "      <td>2.883254</td>\n",
       "      <td>-0.457453</td>\n",
       "      <td>-0.996108</td>\n",
       "      <td>-0.445173</td>\n",
       "      <td>0.962262</td>\n",
       "      <td>...</td>\n",
       "      <td>-0.119697</td>\n",
       "      <td>-0.11742</td>\n",
       "      <td>-0.115879</td>\n",
       "      <td>-0.091207</td>\n",
       "      <td>-0.087221</td>\n",
       "      <td>1.839740</td>\n",
       "      <td>0.057524</td>\n",
       "      <td>-0.289185</td>\n",
       "      <td>0.309800</td>\n",
       "      <td>-0.260877</td>\n",
       "    </tr>\n",
       "    <tr>\n",
       "      <th>45819</th>\n",
       "      <td>1.726909</td>\n",
       "      <td>-1.489818</td>\n",
       "      <td>-1.150250</td>\n",
       "      <td>-0.528611</td>\n",
       "      <td>4.066366</td>\n",
       "      <td>2.883254</td>\n",
       "      <td>-0.457453</td>\n",
       "      <td>-0.996108</td>\n",
       "      <td>-0.445173</td>\n",
       "      <td>-1.039218</td>\n",
       "      <td>...</td>\n",
       "      <td>-0.119697</td>\n",
       "      <td>-0.11742</td>\n",
       "      <td>-0.115879</td>\n",
       "      <td>-0.091207</td>\n",
       "      <td>-0.087221</td>\n",
       "      <td>1.025092</td>\n",
       "      <td>0.878421</td>\n",
       "      <td>1.336593</td>\n",
       "      <td>1.785389</td>\n",
       "      <td>-0.260877</td>\n",
       "    </tr>\n",
       "    <tr>\n",
       "      <th>34807</th>\n",
       "      <td>1.269491</td>\n",
       "      <td>0.479896</td>\n",
       "      <td>0.059736</td>\n",
       "      <td>-0.620967</td>\n",
       "      <td>0.182883</td>\n",
       "      <td>2.883254</td>\n",
       "      <td>-0.457453</td>\n",
       "      <td>-0.996108</td>\n",
       "      <td>-0.445173</td>\n",
       "      <td>0.962262</td>\n",
       "      <td>...</td>\n",
       "      <td>-0.119697</td>\n",
       "      <td>-0.11742</td>\n",
       "      <td>-0.115879</td>\n",
       "      <td>-0.091207</td>\n",
       "      <td>-0.087221</td>\n",
       "      <td>1.025092</td>\n",
       "      <td>-0.763372</td>\n",
       "      <td>-0.289185</td>\n",
       "      <td>0.309800</td>\n",
       "      <td>-0.260877</td>\n",
       "    </tr>\n",
       "    <tr>\n",
       "      <th>31888</th>\n",
       "      <td>0.571812</td>\n",
       "      <td>-0.012532</td>\n",
       "      <td>0.463065</td>\n",
       "      <td>1.687932</td>\n",
       "      <td>-0.644744</td>\n",
       "      <td>-0.346830</td>\n",
       "      <td>-0.457453</td>\n",
       "      <td>1.003908</td>\n",
       "      <td>-0.445173</td>\n",
       "      <td>0.962262</td>\n",
       "      <td>...</td>\n",
       "      <td>-0.119697</td>\n",
       "      <td>-0.11742</td>\n",
       "      <td>-0.115879</td>\n",
       "      <td>-0.091207</td>\n",
       "      <td>-0.087221</td>\n",
       "      <td>-0.875753</td>\n",
       "      <td>0.878421</td>\n",
       "      <td>-0.289185</td>\n",
       "      <td>-1.165789</td>\n",
       "      <td>-0.260877</td>\n",
       "    </tr>\n",
       "  </tbody>\n",
       "</table>\n",
       "<p>5 rows × 50 columns</p>\n",
       "</div>"
      ],
      "text/plain": [
       "           user  dayofweek      hour       age  numscreens  minigame  \\\n",
       "20330  1.193341  -0.504961  1.000837  0.025525   -1.026726 -0.346830   \n",
       "17532 -0.776427  -0.997389  1.135280 -0.898034    1.328829  2.883254   \n",
       "45819  1.726909  -1.489818 -1.150250 -0.528611    4.066366  2.883254   \n",
       "34807  1.269491   0.479896  0.059736 -0.620967    0.182883  2.883254   \n",
       "31888  0.571812  -0.012532  0.463065  1.687932   -0.644744 -0.346830   \n",
       "\n",
       "       used_premium_feature  enrolled     liked  location  ...  SecurityModal  \\\n",
       "20330              2.186018 -0.996108  2.246319 -1.039218  ...      -0.119697   \n",
       "17532             -0.457453 -0.996108 -0.445173  0.962262  ...      -0.119697   \n",
       "45819             -0.457453 -0.996108 -0.445173 -1.039218  ...      -0.119697   \n",
       "34807             -0.457453 -0.996108 -0.445173  0.962262  ...      -0.119697   \n",
       "31888             -0.457453  1.003908 -0.445173  0.962262  ...      -0.119697   \n",
       "\n",
       "       ResendToken  TransactionList  NetworkFailure  ListPicker     Other  \\\n",
       "20330     -0.11742        -0.115879       -0.091207   -0.087221 -1.147303   \n",
       "17532     -0.11742        -0.115879       -0.091207   -0.087221  1.839740   \n",
       "45819     -0.11742        -0.115879       -0.091207   -0.087221  1.025092   \n",
       "34807     -0.11742        -0.115879       -0.091207   -0.087221  1.025092   \n",
       "31888     -0.11742        -0.115879       -0.091207   -0.087221 -0.875753   \n",
       "\n",
       "        CMCount   CCCount  LoansCount  SavingsCount  \n",
       "20330 -0.763372 -0.289185    1.785389     -0.260877  \n",
       "17532  0.057524 -0.289185    0.309800     -0.260877  \n",
       "45819  0.878421  1.336593    1.785389     -0.260877  \n",
       "34807 -0.763372 -0.289185    0.309800     -0.260877  \n",
       "31888  0.878421 -0.289185   -1.165789     -0.260877  \n",
       "\n",
       "[5 rows x 50 columns]"
      ]
     },
     "execution_count": 36,
     "metadata": {},
     "output_type": "execute_result"
    }
   ],
   "source": [
    "X_train.head()"
   ]
  },
  {
   "cell_type": "markdown",
   "id": "30f27b23",
   "metadata": {
    "papermill": {
     "duration": 0.027723,
     "end_time": "2023-08-27T06:02:14.380895",
     "exception": false,
     "start_time": "2023-08-27T06:02:14.353172",
     "status": "completed"
    },
    "tags": []
   },
   "source": [
    "### Model Generation"
   ]
  },
  {
   "cell_type": "code",
   "execution_count": 37,
   "id": "edaa095c",
   "metadata": {
    "execution": {
     "iopub.execute_input": "2023-08-27T06:02:14.437913Z",
     "iopub.status.busy": "2023-08-27T06:02:14.437477Z",
     "iopub.status.idle": "2023-08-27T06:02:14.550596Z",
     "shell.execute_reply": "2023-08-27T06:02:14.549334Z"
    },
    "papermill": {
     "duration": 0.144824,
     "end_time": "2023-08-27T06:02:14.553508",
     "exception": false,
     "start_time": "2023-08-27T06:02:14.408684",
     "status": "completed"
    },
    "tags": []
   },
   "outputs": [],
   "source": [
    "from sklearn.linear_model import LogisticRegression\n",
    "\n",
    "classifier = LogisticRegression(random_state = 0, penalty = 'l1', solver='liblinear')"
   ]
  },
  {
   "cell_type": "code",
   "execution_count": 38,
   "id": "ed9d9437",
   "metadata": {
    "execution": {
     "iopub.execute_input": "2023-08-27T06:02:14.610736Z",
     "iopub.status.busy": "2023-08-27T06:02:14.609964Z",
     "iopub.status.idle": "2023-08-27T06:02:14.900722Z",
     "shell.execute_reply": "2023-08-27T06:02:14.899436Z"
    },
    "papermill": {
     "duration": 0.322351,
     "end_time": "2023-08-27T06:02:14.903364",
     "exception": false,
     "start_time": "2023-08-27T06:02:14.581013",
     "status": "completed"
    },
    "tags": []
   },
   "outputs": [
    {
     "data": {
      "text/html": [
       "<style>#sk-container-id-1 {color: black;background-color: white;}#sk-container-id-1 pre{padding: 0;}#sk-container-id-1 div.sk-toggleable {background-color: white;}#sk-container-id-1 label.sk-toggleable__label {cursor: pointer;display: block;width: 100%;margin-bottom: 0;padding: 0.3em;box-sizing: border-box;text-align: center;}#sk-container-id-1 label.sk-toggleable__label-arrow:before {content: \"▸\";float: left;margin-right: 0.25em;color: #696969;}#sk-container-id-1 label.sk-toggleable__label-arrow:hover:before {color: black;}#sk-container-id-1 div.sk-estimator:hover label.sk-toggleable__label-arrow:before {color: black;}#sk-container-id-1 div.sk-toggleable__content {max-height: 0;max-width: 0;overflow: hidden;text-align: left;background-color: #f0f8ff;}#sk-container-id-1 div.sk-toggleable__content pre {margin: 0.2em;color: black;border-radius: 0.25em;background-color: #f0f8ff;}#sk-container-id-1 input.sk-toggleable__control:checked~div.sk-toggleable__content {max-height: 200px;max-width: 100%;overflow: auto;}#sk-container-id-1 input.sk-toggleable__control:checked~label.sk-toggleable__label-arrow:before {content: \"▾\";}#sk-container-id-1 div.sk-estimator input.sk-toggleable__control:checked~label.sk-toggleable__label {background-color: #d4ebff;}#sk-container-id-1 div.sk-label input.sk-toggleable__control:checked~label.sk-toggleable__label {background-color: #d4ebff;}#sk-container-id-1 input.sk-hidden--visually {border: 0;clip: rect(1px 1px 1px 1px);clip: rect(1px, 1px, 1px, 1px);height: 1px;margin: -1px;overflow: hidden;padding: 0;position: absolute;width: 1px;}#sk-container-id-1 div.sk-estimator {font-family: monospace;background-color: #f0f8ff;border: 1px dotted black;border-radius: 0.25em;box-sizing: border-box;margin-bottom: 0.5em;}#sk-container-id-1 div.sk-estimator:hover {background-color: #d4ebff;}#sk-container-id-1 div.sk-parallel-item::after {content: \"\";width: 100%;border-bottom: 1px solid gray;flex-grow: 1;}#sk-container-id-1 div.sk-label:hover label.sk-toggleable__label {background-color: #d4ebff;}#sk-container-id-1 div.sk-serial::before {content: \"\";position: absolute;border-left: 1px solid gray;box-sizing: border-box;top: 0;bottom: 0;left: 50%;z-index: 0;}#sk-container-id-1 div.sk-serial {display: flex;flex-direction: column;align-items: center;background-color: white;padding-right: 0.2em;padding-left: 0.2em;position: relative;}#sk-container-id-1 div.sk-item {position: relative;z-index: 1;}#sk-container-id-1 div.sk-parallel {display: flex;align-items: stretch;justify-content: center;background-color: white;position: relative;}#sk-container-id-1 div.sk-item::before, #sk-container-id-1 div.sk-parallel-item::before {content: \"\";position: absolute;border-left: 1px solid gray;box-sizing: border-box;top: 0;bottom: 0;left: 50%;z-index: -1;}#sk-container-id-1 div.sk-parallel-item {display: flex;flex-direction: column;z-index: 1;position: relative;background-color: white;}#sk-container-id-1 div.sk-parallel-item:first-child::after {align-self: flex-end;width: 50%;}#sk-container-id-1 div.sk-parallel-item:last-child::after {align-self: flex-start;width: 50%;}#sk-container-id-1 div.sk-parallel-item:only-child::after {width: 0;}#sk-container-id-1 div.sk-dashed-wrapped {border: 1px dashed gray;margin: 0 0.4em 0.5em 0.4em;box-sizing: border-box;padding-bottom: 0.4em;background-color: white;}#sk-container-id-1 div.sk-label label {font-family: monospace;font-weight: bold;display: inline-block;line-height: 1.2em;}#sk-container-id-1 div.sk-label-container {text-align: center;}#sk-container-id-1 div.sk-container {/* jupyter's `normalize.less` sets `[hidden] { display: none; }` but bootstrap.min.css set `[hidden] { display: none !important; }` so we also need the `!important` here to be able to override the default hidden behavior on the sphinx rendered scikit-learn.org. See: https://github.com/scikit-learn/scikit-learn/issues/21755 */display: inline-block !important;position: relative;}#sk-container-id-1 div.sk-text-repr-fallback {display: none;}</style><div id=\"sk-container-id-1\" class=\"sk-top-container\"><div class=\"sk-text-repr-fallback\"><pre>LogisticRegression(penalty=&#x27;l1&#x27;, random_state=0, solver=&#x27;liblinear&#x27;)</pre><b>In a Jupyter environment, please rerun this cell to show the HTML representation or trust the notebook. <br />On GitHub, the HTML representation is unable to render, please try loading this page with nbviewer.org.</b></div><div class=\"sk-container\" hidden><div class=\"sk-item\"><div class=\"sk-estimator sk-toggleable\"><input class=\"sk-toggleable__control sk-hidden--visually\" id=\"sk-estimator-id-1\" type=\"checkbox\" checked><label for=\"sk-estimator-id-1\" class=\"sk-toggleable__label sk-toggleable__label-arrow\">LogisticRegression</label><div class=\"sk-toggleable__content\"><pre>LogisticRegression(penalty=&#x27;l1&#x27;, random_state=0, solver=&#x27;liblinear&#x27;)</pre></div></div></div></div></div>"
      ],
      "text/plain": [
       "LogisticRegression(penalty='l1', random_state=0, solver='liblinear')"
      ]
     },
     "execution_count": 38,
     "metadata": {},
     "output_type": "execute_result"
    }
   ],
   "source": [
    "classifier.fit(X_train, y_train)"
   ]
  },
  {
   "cell_type": "code",
   "execution_count": 39,
   "id": "bd309751",
   "metadata": {
    "execution": {
     "iopub.execute_input": "2023-08-27T06:02:14.961689Z",
     "iopub.status.busy": "2023-08-27T06:02:14.961268Z",
     "iopub.status.idle": "2023-08-27T06:02:14.973562Z",
     "shell.execute_reply": "2023-08-27T06:02:14.971944Z"
    },
    "papermill": {
     "duration": 0.047515,
     "end_time": "2023-08-27T06:02:14.978902",
     "exception": false,
     "start_time": "2023-08-27T06:02:14.931387",
     "status": "completed"
    },
    "tags": []
   },
   "outputs": [],
   "source": [
    "y_pred = classifier.predict(X_test)"
   ]
  },
  {
   "cell_type": "code",
   "execution_count": 40,
   "id": "b0eaa7be",
   "metadata": {
    "execution": {
     "iopub.execute_input": "2023-08-27T06:02:15.095849Z",
     "iopub.status.busy": "2023-08-27T06:02:15.095219Z",
     "iopub.status.idle": "2023-08-27T06:02:15.103204Z",
     "shell.execute_reply": "2023-08-27T06:02:15.101873Z"
    },
    "papermill": {
     "duration": 0.068298,
     "end_time": "2023-08-27T06:02:15.106075",
     "exception": false,
     "start_time": "2023-08-27T06:02:15.037777",
     "status": "completed"
    },
    "tags": []
   },
   "outputs": [
    {
     "data": {
      "text/plain": [
       "array([1, 1, 0, ..., 0, 1, 1])"
      ]
     },
     "execution_count": 40,
     "metadata": {},
     "output_type": "execute_result"
    }
   ],
   "source": [
    "y_pred"
   ]
  },
  {
   "cell_type": "markdown",
   "id": "40deda85",
   "metadata": {
    "papermill": {
     "duration": 0.027582,
     "end_time": "2023-08-27T06:02:15.161488",
     "exception": false,
     "start_time": "2023-08-27T06:02:15.133906",
     "status": "completed"
    },
    "tags": []
   },
   "source": [
    "## Model Evaluation"
   ]
  },
  {
   "cell_type": "code",
   "execution_count": 41,
   "id": "b7f401b7",
   "metadata": {
    "execution": {
     "iopub.execute_input": "2023-08-27T06:02:15.220576Z",
     "iopub.status.busy": "2023-08-27T06:02:15.220134Z",
     "iopub.status.idle": "2023-08-27T06:02:15.225379Z",
     "shell.execute_reply": "2023-08-27T06:02:15.224054Z"
    },
    "papermill": {
     "duration": 0.03833,
     "end_time": "2023-08-27T06:02:15.228076",
     "exception": false,
     "start_time": "2023-08-27T06:02:15.189746",
     "status": "completed"
    },
    "tags": []
   },
   "outputs": [],
   "source": [
    "from sklearn.metrics import confusion_matrix, classification_report"
   ]
  },
  {
   "cell_type": "code",
   "execution_count": 42,
   "id": "85e83968",
   "metadata": {
    "execution": {
     "iopub.execute_input": "2023-08-27T06:02:15.287755Z",
     "iopub.status.busy": "2023-08-27T06:02:15.285923Z",
     "iopub.status.idle": "2023-08-27T06:02:15.864937Z",
     "shell.execute_reply": "2023-08-27T06:02:15.863676Z"
    },
    "papermill": {
     "duration": 0.612154,
     "end_time": "2023-08-27T06:02:15.868061",
     "exception": false,
     "start_time": "2023-08-27T06:02:15.255907",
     "status": "completed"
    },
    "tags": []
   },
   "outputs": [
    {
     "data": {
      "text/plain": [
       "<Axes: >"
      ]
     },
     "execution_count": 42,
     "metadata": {},
     "output_type": "execute_result"
    },
    {
     "data": {
      "image/png": "[encoded data removed]",
      "text/plain": [
       "<Figure size 1000x700 with 2 Axes>"
      ]
     },
     "metadata": {},
     "output_type": "display_data"
    }
   ],
   "source": [
    "cm = confusion_matrix(y_test, y_pred)\n",
    "plt.figure(figsize=(10, 7))\n",
    "sns.heatmap(cm, annot=True)"
   ]
  },
  {
   "cell_type": "code",
   "execution_count": 43,
   "id": "c063fb13",
   "metadata": {
    "execution": {
     "iopub.execute_input": "2023-08-27T06:02:15.928264Z",
     "iopub.status.busy": "2023-08-27T06:02:15.927875Z",
     "iopub.status.idle": "2023-08-27T06:02:15.959645Z",
     "shell.execute_reply": "2023-08-27T06:02:15.958224Z"
    },
    "papermill": {
     "duration": 0.064426,
     "end_time": "2023-08-27T06:02:15.962063",
     "exception": false,
     "start_time": "2023-08-27T06:02:15.897637",
     "status": "completed"
    },
    "tags": []
   },
   "outputs": [
    {
     "name": "stdout",
     "output_type": "stream",
     "text": [
      "              precision    recall  f1-score   support\n",
      "\n",
      "           0       1.00      1.00      1.00      5072\n",
      "           1       1.00      1.00      1.00      4928\n",
      "\n",
      "    accuracy                           1.00     10000\n",
      "   macro avg       1.00      1.00      1.00     10000\n",
      "weighted avg       1.00      1.00      1.00     10000\n",
      "\n"
     ]
    }
   ],
   "source": [
    "print(classification_report(y_test, y_pred))"
   ]
  },
  {
   "cell_type": "markdown",
   "id": "10072d91",
   "metadata": {
    "papermill": {
     "duration": 0.029382,
     "end_time": "2023-08-27T06:02:16.020874",
     "exception": false,
     "start_time": "2023-08-27T06:02:15.991492",
     "status": "completed"
    },
    "tags": []
   },
   "source": [
    "### Cross Validation"
   ]
  },
  {
   "cell_type": "code",
   "execution_count": 44,
   "id": "c53cdae6",
   "metadata": {
    "execution": {
     "iopub.execute_input": "2023-08-27T06:02:16.080591Z",
     "iopub.status.busy": "2023-08-27T06:02:16.080148Z",
     "iopub.status.idle": "2023-08-27T06:02:16.085607Z",
     "shell.execute_reply": "2023-08-27T06:02:16.084409Z"
    },
    "papermill": {
     "duration": 0.038221,
     "end_time": "2023-08-27T06:02:16.088299",
     "exception": false,
     "start_time": "2023-08-27T06:02:16.050078",
     "status": "completed"
    },
    "tags": []
   },
   "outputs": [],
   "source": [
    "from sklearn.model_selection import cross_val_score"
   ]
  },
  {
   "cell_type": "code",
   "execution_count": 45,
   "id": "64381f26",
   "metadata": {
    "execution": {
     "iopub.execute_input": "2023-08-27T06:02:16.150261Z",
     "iopub.status.busy": "2023-08-27T06:02:16.148647Z",
     "iopub.status.idle": "2023-08-27T06:02:19.133084Z",
     "shell.execute_reply": "2023-08-27T06:02:19.131472Z"
    },
    "papermill": {
     "duration": 3.020113,
     "end_time": "2023-08-27T06:02:19.137862",
     "exception": false,
     "start_time": "2023-08-27T06:02:16.117749",
     "status": "completed"
    },
    "tags": []
   },
   "outputs": [],
   "source": [
    "accuracies = cross_val_score(estimator = classifier, X = X_train, y = y_train, cv = 10)"
   ]
  },
  {
   "cell_type": "code",
   "execution_count": 46,
   "id": "1529d879",
   "metadata": {
    "execution": {
     "iopub.execute_input": "2023-08-27T06:02:19.258733Z",
     "iopub.status.busy": "2023-08-27T06:02:19.258314Z",
     "iopub.status.idle": "2023-08-27T06:02:19.264678Z",
     "shell.execute_reply": "2023-08-27T06:02:19.263549Z"
    },
    "papermill": {
     "duration": 0.064617,
     "end_time": "2023-08-27T06:02:19.267717",
     "exception": false,
     "start_time": "2023-08-27T06:02:19.203100",
     "status": "completed"
    },
    "tags": []
   },
   "outputs": [
    {
     "name": "stdout",
     "output_type": "stream",
     "text": [
      "Logistic accuracy:: 1.000 (+/- 0.000)\n"
     ]
    }
   ],
   "source": [
    "print('Logistic accuracy:: %0.3f (+/- %0.3f)'%(accuracies.mean(), accuracies.std() * 2))"
   ]
  },
  {
   "cell_type": "markdown",
   "id": "fbb67d8d",
   "metadata": {
    "papermill": {
     "duration": 0.028709,
     "end_time": "2023-08-27T06:02:19.325986",
     "exception": false,
     "start_time": "2023-08-27T06:02:19.297277",
     "status": "completed"
    },
    "tags": []
   },
   "source": [
    "## Formatting the Final Results"
   ]
  },
  {
   "cell_type": "code",
   "execution_count": 47,
   "id": "03c136ed",
   "metadata": {
    "execution": {
     "iopub.execute_input": "2023-08-27T06:02:19.388731Z",
     "iopub.status.busy": "2023-08-27T06:02:19.387405Z",
     "iopub.status.idle": "2023-08-27T06:02:19.395409Z",
     "shell.execute_reply": "2023-08-27T06:02:19.394478Z"
    },
    "papermill": {
     "duration": 0.04088,
     "end_time": "2023-08-27T06:02:19.397803",
     "exception": false,
     "start_time": "2023-08-27T06:02:19.356923",
     "status": "completed"
    },
    "tags": []
   },
   "outputs": [],
   "source": [
    "final_results = pd.concat([y_test, test_identifier], axis = 1).dropna()"
   ]
  },
  {
   "cell_type": "code",
   "execution_count": 48,
   "id": "df761d58",
   "metadata": {
    "execution": {
     "iopub.execute_input": "2023-08-27T06:02:19.459115Z",
     "iopub.status.busy": "2023-08-27T06:02:19.458043Z",
     "iopub.status.idle": "2023-08-27T06:02:19.474951Z",
     "shell.execute_reply": "2023-08-27T06:02:19.473788Z"
    },
    "papermill": {
     "duration": 0.050022,
     "end_time": "2023-08-27T06:02:19.477502",
     "exception": false,
     "start_time": "2023-08-27T06:02:19.427480",
     "status": "completed"
    },
    "tags": []
   },
   "outputs": [
    {
     "data": {
      "text/html": [
       "<div>\n",
       "<style scoped>\n",
       "    .dataframe tbody tr th:only-of-type {\n",
       "        vertical-align: middle;\n",
       "    }\n",
       "\n",
       "    .dataframe tbody tr th {\n",
       "        vertical-align: top;\n",
       "    }\n",
       "\n",
       "    .dataframe thead th {\n",
       "        text-align: right;\n",
       "    }\n",
       "</style>\n",
       "<table border=\"1\" class=\"dataframe\">\n",
       "  <thead>\n",
       "    <tr style=\"text-align: right;\">\n",
       "      <th></th>\n",
       "      <th>user</th>\n",
       "      <th>enrolled</th>\n",
       "      <th>predicted_results</th>\n",
       "    </tr>\n",
       "  </thead>\n",
       "  <tbody>\n",
       "    <tr>\n",
       "      <th>0</th>\n",
       "      <td>239786</td>\n",
       "      <td>1</td>\n",
       "      <td>1</td>\n",
       "    </tr>\n",
       "    <tr>\n",
       "      <th>1</th>\n",
       "      <td>279644</td>\n",
       "      <td>1</td>\n",
       "      <td>1</td>\n",
       "    </tr>\n",
       "    <tr>\n",
       "      <th>2</th>\n",
       "      <td>98290</td>\n",
       "      <td>0</td>\n",
       "      <td>0</td>\n",
       "    </tr>\n",
       "    <tr>\n",
       "      <th>3</th>\n",
       "      <td>170150</td>\n",
       "      <td>1</td>\n",
       "      <td>1</td>\n",
       "    </tr>\n",
       "    <tr>\n",
       "      <th>4</th>\n",
       "      <td>237568</td>\n",
       "      <td>1</td>\n",
       "      <td>1</td>\n",
       "    </tr>\n",
       "    <tr>\n",
       "      <th>...</th>\n",
       "      <td>...</td>\n",
       "      <td>...</td>\n",
       "      <td>...</td>\n",
       "    </tr>\n",
       "    <tr>\n",
       "      <th>9995</th>\n",
       "      <td>143036</td>\n",
       "      <td>1</td>\n",
       "      <td>1</td>\n",
       "    </tr>\n",
       "    <tr>\n",
       "      <th>9996</th>\n",
       "      <td>91158</td>\n",
       "      <td>1</td>\n",
       "      <td>1</td>\n",
       "    </tr>\n",
       "    <tr>\n",
       "      <th>9997</th>\n",
       "      <td>248318</td>\n",
       "      <td>0</td>\n",
       "      <td>0</td>\n",
       "    </tr>\n",
       "    <tr>\n",
       "      <th>9998</th>\n",
       "      <td>142418</td>\n",
       "      <td>1</td>\n",
       "      <td>1</td>\n",
       "    </tr>\n",
       "    <tr>\n",
       "      <th>9999</th>\n",
       "      <td>279355</td>\n",
       "      <td>1</td>\n",
       "      <td>1</td>\n",
       "    </tr>\n",
       "  </tbody>\n",
       "</table>\n",
       "<p>10000 rows × 3 columns</p>\n",
       "</div>"
      ],
      "text/plain": [
       "        user  enrolled  predicted_results\n",
       "0     239786         1                  1\n",
       "1     279644         1                  1\n",
       "2      98290         0                  0\n",
       "3     170150         1                  1\n",
       "4     237568         1                  1\n",
       "...      ...       ...                ...\n",
       "9995  143036         1                  1\n",
       "9996   91158         1                  1\n",
       "9997  248318         0                  0\n",
       "9998  142418         1                  1\n",
       "9999  279355         1                  1\n",
       "\n",
       "[10000 rows x 3 columns]"
      ]
     },
     "execution_count": 48,
     "metadata": {},
     "output_type": "execute_result"
    }
   ],
   "source": [
    "final_results['predicted_results'] = y_pred\n",
    "final_results[['user', 'enrolled', 'predicted_results']].reset_index(drop = True)"
   ]
  },
  {
   "cell_type": "code",
   "execution_count": null,
   "id": "4d3dc814",
   "metadata": {
    "papermill": {
     "duration": 0.02897,
     "end_time": "2023-08-27T06:02:19.536103",
     "exception": false,
     "start_time": "2023-08-27T06:02:19.507133",
     "status": "completed"
    },
    "tags": []
   },
   "outputs": [],
   "source": []
  }
 ],
 "metadata": {
  "kernelspec": {
   "display_name": "Python 3",
   "language": "python",
   "name": "python3"
  },
  "language_info": {
   "codemirror_mode": {
    "name": "ipython",
    "version": 3
   },
   "file_extension": ".py",
   "mimetype": "text/x-python",
   "name": "python",
   "nbconvert_exporter": "python",
   "pygments_lexer": "ipython3",
   "version": "3.10.12"
  },
  "papermill": {
   "default_parameters": {},
   "duration": 43.780342,
   "end_time": "2023-08-27T06:02:20.689808",
   "environment_variables": {},
   "exception": null,
   "input_path": "__notebook__.ipynb",
   "output_path": "__notebook__.ipynb",
   "parameters": {},
   "start_time": "2023-08-27T06:01:36.909466",
   "version": "2.4.0"
  }
 },
 "nbformat": 4,
 "nbformat_minor": 5
}
